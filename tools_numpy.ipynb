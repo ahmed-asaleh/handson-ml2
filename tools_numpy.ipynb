{
 "cells": [
  {
   "cell_type": "markdown",
   "metadata": {},
   "source": [
    "**Tools - NumPy**\n",
    "\n",
    "*NumPy is the fundamental library for scientific computing with Python. NumPy is centered around a powerful N-dimensional array object, and it also contains useful linear algebra, Fourier transform, and random number functions.*"
   ]
  },
  {
   "cell_type": "markdown",
   "metadata": {},
   "source": [
    "<table align=\"left\">\n",
    "  <td>\n",
    "    <a href=\"https://colab.research.google.com/github/ageron/handson-ml2/blob/master/tools_numpy.ipynb\" target=\"_parent\"><img src=\"https://colab.research.google.com/assets/colab-badge.svg\" alt=\"Open In Colab\"/></a>\n",
    "  </td>\n",
    "  <td>\n",
    "    <a target=\"_blank\" href=\"https://kaggle.com/kernels/welcome?src=https://github.com/ageron/handson-ml2/blob/master/tools_numpy.ipynb\"><img src=\"https://kaggle.com/static/images/open-in-kaggle.svg\" /></a>\n",
    "  </td>\n",
    "</table>"
   ]
  },
  {
   "cell_type": "markdown",
   "metadata": {},
   "source": [
    "# Creating Arrays"
   ]
  },
  {
   "cell_type": "markdown",
   "metadata": {},
   "source": [
    "Now let's import `numpy`. Most people import it as `np`:"
   ]
  },
  {
   "cell_type": "code",
   "execution_count": 1,
   "metadata": {},
   "outputs": [],
   "source": [
    "import numpy as np"
   ]
  },
  {
   "cell_type": "markdown",
   "metadata": {},
   "source": [
    "## `np.zeros`"
   ]
  },
  {
   "cell_type": "markdown",
   "metadata": {},
   "source": [
    "The `zeros` function creates an array containing any number of zeros:"
   ]
  },
  {
   "cell_type": "code",
   "execution_count": 2,
   "metadata": {},
   "outputs": [
    {
     "data": {
      "text/plain": [
       "array([0., 0., 0., 0., 0.])"
      ]
     },
     "execution_count": 2,
     "metadata": {},
     "output_type": "execute_result"
    }
   ],
   "source": [
    "np.zeros(5)"
   ]
  },
  {
   "cell_type": "markdown",
   "metadata": {},
   "source": [
    "It's just as easy to create a 2D array (ie. a matrix) by providing a tuple with the desired number of rows and columns. For example, here's a 3x4 matrix:"
   ]
  },
  {
   "cell_type": "code",
   "execution_count": 3,
   "metadata": {},
   "outputs": [
    {
     "data": {
      "text/plain": [
       "array([[0., 0., 0., 0.],\n",
       "       [0., 0., 0., 0.],\n",
       "       [0., 0., 0., 0.]])"
      ]
     },
     "execution_count": 3,
     "metadata": {},
     "output_type": "execute_result"
    }
   ],
   "source": [
    "np.zeros((3,4))"
   ]
  },
  {
   "cell_type": "markdown",
   "metadata": {},
   "source": [
    "## Some vocabulary\n",
    "\n",
    "* In NumPy, each dimension is called an **axis**.\n",
    "* The number of axes is called the **rank**.\n",
    "    * For example, the above 3x4 matrix is an array of rank 2 (it is 2-dimensional).\n",
    "    * The first axis has length 3, the second has length 4.\n",
    "* An array's list of axis lengths is called the **shape** of the array.\n",
    "    * For example, the above matrix's shape is `(3, 4)`.\n",
    "    * The rank is equal to the shape's length.\n",
    "* The **size** of an array is the total number of elements, which is the product of all axis lengths (eg. 3*4=12)"
   ]
  },
  {
   "cell_type": "code",
   "execution_count": 4,
   "metadata": {},
   "outputs": [
    {
     "data": {
      "text/plain": [
       "array([[0., 0., 0., 0.],\n",
       "       [0., 0., 0., 0.],\n",
       "       [0., 0., 0., 0.]])"
      ]
     },
     "execution_count": 4,
     "metadata": {},
     "output_type": "execute_result"
    }
   ],
   "source": [
    "a = np.zeros((3,4))\n",
    "a"
   ]
  },
  {
   "cell_type": "code",
   "execution_count": 5,
   "metadata": {},
   "outputs": [
    {
     "data": {
      "text/plain": [
       "(3, 4)"
      ]
     },
     "execution_count": 5,
     "metadata": {},
     "output_type": "execute_result"
    }
   ],
   "source": [
    "a.shape"
   ]
  },
  {
   "cell_type": "code",
   "execution_count": 6,
   "metadata": {},
   "outputs": [
    {
     "data": {
      "text/plain": [
       "2"
      ]
     },
     "execution_count": 6,
     "metadata": {},
     "output_type": "execute_result"
    }
   ],
   "source": [
    "a.ndim  # equal to len(a.shape)"
   ]
  },
  {
   "cell_type": "code",
   "execution_count": 7,
   "metadata": {},
   "outputs": [
    {
     "data": {
      "text/plain": [
       "12"
      ]
     },
     "execution_count": 7,
     "metadata": {},
     "output_type": "execute_result"
    }
   ],
   "source": [
    "a.size"
   ]
  },
  {
   "cell_type": "markdown",
   "metadata": {},
   "source": [
    "## N-dimensional arrays\n",
    "You can also create an N-dimensional array of arbitrary rank. For example, here's a 3D array (rank=3), with shape `(2,3,4)`:"
   ]
  },
  {
   "cell_type": "code",
   "execution_count": 8,
   "metadata": {},
   "outputs": [
    {
     "data": {
      "text/plain": [
       "array([[[0., 0., 0., 0.],\n",
       "        [0., 0., 0., 0.],\n",
       "        [0., 0., 0., 0.]],\n",
       "\n",
       "       [[0., 0., 0., 0.],\n",
       "        [0., 0., 0., 0.],\n",
       "        [0., 0., 0., 0.]]])"
      ]
     },
     "execution_count": 8,
     "metadata": {},
     "output_type": "execute_result"
    }
   ],
   "source": [
    "np.zeros((2,3,4))"
   ]
  },
  {
   "cell_type": "markdown",
   "metadata": {},
   "source": [
    "## Array type\n",
    "NumPy arrays have the type `ndarray`s:"
   ]
  },
  {
   "cell_type": "code",
   "execution_count": 9,
   "metadata": {},
   "outputs": [
    {
     "data": {
      "text/plain": [
       "numpy.ndarray"
      ]
     },
     "execution_count": 9,
     "metadata": {},
     "output_type": "execute_result"
    }
   ],
   "source": [
    "type(np.zeros((3,4)))"
   ]
  },
  {
   "cell_type": "markdown",
   "metadata": {},
   "source": [
    "## `np.ones`\n",
    "Many other NumPy functions create `ndarrays`.\n",
    "\n",
    "Here's a 3x4 matrix full of ones:"
   ]
  },
  {
   "cell_type": "code",
   "execution_count": 10,
   "metadata": {},
   "outputs": [
    {
     "data": {
      "text/plain": [
       "array([[1., 1., 1., 1.],\n",
       "       [1., 1., 1., 1.],\n",
       "       [1., 1., 1., 1.]])"
      ]
     },
     "execution_count": 10,
     "metadata": {},
     "output_type": "execute_result"
    }
   ],
   "source": [
    "np.ones((3,4))"
   ]
  },
  {
   "cell_type": "markdown",
   "metadata": {},
   "source": [
    "## `np.full`\n",
    "Creates an array of the given shape initialized with the given value. Here's a 3x4 matrix full of `π`."
   ]
  },
  {
   "cell_type": "code",
   "execution_count": 11,
   "metadata": {},
   "outputs": [
    {
     "data": {
      "text/plain": [
       "array([[3.14159265, 3.14159265, 3.14159265, 3.14159265],\n",
       "       [3.14159265, 3.14159265, 3.14159265, 3.14159265],\n",
       "       [3.14159265, 3.14159265, 3.14159265, 3.14159265]])"
      ]
     },
     "execution_count": 11,
     "metadata": {},
     "output_type": "execute_result"
    }
   ],
   "source": [
    "np.full((3,4), np.pi)"
   ]
  },
  {
   "cell_type": "markdown",
   "metadata": {},
   "source": [
    "## `np.empty`\n",
    "An uninitialized 2x3 array (its content is not predictable, as it is whatever is in memory at that point):"
   ]
  },
  {
   "cell_type": "code",
   "execution_count": 12,
   "metadata": {
    "scrolled": true
   },
   "outputs": [
    {
     "data": {
      "text/plain": [
       "array([[0., 0., 0.],\n",
       "       [0., 0., 0.]])"
      ]
     },
     "execution_count": 12,
     "metadata": {},
     "output_type": "execute_result"
    }
   ],
   "source": [
    "np.empty((2,3))"
   ]
  },
  {
   "cell_type": "markdown",
   "metadata": {},
   "source": [
    "## np.array\n",
    "Of course you can initialize an `ndarray` using a regular python array. Just call the `array` function:"
   ]
  },
  {
   "cell_type": "code",
   "execution_count": 13,
   "metadata": {},
   "outputs": [
    {
     "data": {
      "text/plain": [
       "array([[ 1,  2,  3,  4],\n",
       "       [10, 20, 30, 40]])"
      ]
     },
     "execution_count": 13,
     "metadata": {},
     "output_type": "execute_result"
    }
   ],
   "source": [
    "np.array([[1,2,3,4], [10, 20, 30, 40]])"
   ]
  },
  {
   "cell_type": "markdown",
   "metadata": {},
   "source": [
    "## `np.arange`\n",
    "You can create an `ndarray` using NumPy's `arange` function, which is similar to python's built-in `range` function:"
   ]
  },
  {
   "cell_type": "code",
   "execution_count": 14,
   "metadata": {
    "scrolled": true
   },
   "outputs": [
    {
     "data": {
      "text/plain": [
       "array([1, 2, 3, 4])"
      ]
     },
     "execution_count": 14,
     "metadata": {},
     "output_type": "execute_result"
    }
   ],
   "source": [
    "np.arange(1, 5)"
   ]
  },
  {
   "cell_type": "markdown",
   "metadata": {},
   "source": [
    "It also works with floats:"
   ]
  },
  {
   "cell_type": "code",
   "execution_count": 15,
   "metadata": {},
   "outputs": [
    {
     "data": {
      "text/plain": [
       "array([1., 2., 3., 4.])"
      ]
     },
     "execution_count": 15,
     "metadata": {},
     "output_type": "execute_result"
    }
   ],
   "source": [
    "np.arange(1.0, 5.0)"
   ]
  },
  {
   "cell_type": "markdown",
   "metadata": {},
   "source": [
    "Of course you can provide a step parameter:"
   ]
  },
  {
   "cell_type": "code",
   "execution_count": 16,
   "metadata": {},
   "outputs": [
    {
     "data": {
      "text/plain": [
       "array([1. , 1.5, 2. , 2.5, 3. , 3.5, 4. , 4.5])"
      ]
     },
     "execution_count": 16,
     "metadata": {},
     "output_type": "execute_result"
    }
   ],
   "source": [
    "np.arange(1, 5, 0.5)"
   ]
  },
  {
   "cell_type": "markdown",
   "metadata": {},
   "source": [
    "However, when dealing with floats, the exact number of elements in the array is not always predictible. For example, consider this:"
   ]
  },
  {
   "cell_type": "code",
   "execution_count": 17,
   "metadata": {},
   "outputs": [
    {
     "name": "stdout",
     "output_type": "stream",
     "text": [
      "[0.         0.33333333 0.66666667 1.         1.33333333 1.66666667]\n",
      "[0.         0.33333333 0.66666667 1.         1.33333333 1.66666667]\n",
      "[0.         0.33333333 0.66666667 1.         1.33333334]\n"
     ]
    }
   ],
   "source": [
    "print(np.arange(0, 5/3, 1/3)) # depending on floating point errors, the max value is 4/3 or 5/3.\n",
    "print(np.arange(0, 5/3, 0.333333333))\n",
    "print(np.arange(0, 5/3, 0.333333334))\n"
   ]
  },
  {
   "cell_type": "markdown",
   "metadata": {},
   "source": [
    "## `np.linspace`\n",
    "For this reason, it is generally preferable to use the `linspace` function instead of `arange` when working with floats. The `linspace` function returns an array containing a specific number of points evenly distributed between two values (note that the maximum value is *included*, contrary to `arange`):"
   ]
  },
  {
   "cell_type": "code",
   "execution_count": 18,
   "metadata": {},
   "outputs": [
    {
     "name": "stdout",
     "output_type": "stream",
     "text": [
      "[0.         0.33333333 0.66666667 1.         1.33333333 1.66666667]\n"
     ]
    }
   ],
   "source": [
    "print(np.linspace(0, 5/3, 6))"
   ]
  },
  {
   "cell_type": "markdown",
   "metadata": {},
   "source": [
    "## `np.rand` and `np.randn`\n",
    "A number of functions are available in NumPy's `random` module to create `ndarray`s initialized with random values.\n",
    "For example, here is a 3x4 matrix initialized with random floats between 0 and 1 (uniform distribution):"
   ]
  },
  {
   "cell_type": "code",
   "execution_count": 19,
   "metadata": {},
   "outputs": [
    {
     "data": {
      "text/plain": [
       "array([[0.07951522, 0.82516403, 0.54524215, 0.46662691],\n",
       "       [0.12016334, 0.74912183, 0.183234  , 0.105027  ],\n",
       "       [0.22051959, 0.26931151, 0.02739192, 0.4721405 ]])"
      ]
     },
     "execution_count": 19,
     "metadata": {},
     "output_type": "execute_result"
    }
   ],
   "source": [
    "np.random.rand(3,4)"
   ]
  },
  {
   "cell_type": "markdown",
   "metadata": {},
   "source": [
    "Here's a 3x4 matrix containing random floats sampled from a univariate [normal distribution](https://en.wikipedia.org/wiki/Normal_distribution) (Gaussian distribution) of mean 0 and variance 1:"
   ]
  },
  {
   "cell_type": "code",
   "execution_count": 20,
   "metadata": {},
   "outputs": [
    {
     "data": {
      "text/plain": [
       "array([[ 0.09545957,  0.14828368, -0.91504156, -0.36224068],\n",
       "       [ 0.55434999,  0.41143633,  0.84385243, -0.3652369 ],\n",
       "       [ 1.48071803, -1.45297797,  1.24551713,  0.4508626 ]])"
      ]
     },
     "execution_count": 20,
     "metadata": {},
     "output_type": "execute_result"
    }
   ],
   "source": [
    "np.random.randn(3,4)"
   ]
  },
  {
   "cell_type": "markdown",
   "metadata": {},
   "source": [
    "To give you a feel of what these distributions look like, let's use matplotlib (see the [matplotlib tutorial](tools_matplotlib.ipynb) for more details):"
   ]
  },
  {
   "cell_type": "code",
   "execution_count": 21,
   "metadata": {},
   "outputs": [],
   "source": [
    "%matplotlib inline\n",
    "import matplotlib.pyplot as plt"
   ]
  },
  {
   "cell_type": "code",
   "execution_count": 23,
   "metadata": {},
   "outputs": [
    {
     "data": {
      "image/png": "iVBORw0KGgoAAAANSUhEUgAAAYAAAAEZCAYAAACervI0AAAABHNCSVQICAgIfAhkiAAAAAlwSFlz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\nrkJggg==\n",
      "text/plain": [
       "<matplotlib.figure.Figure at 0x10f84bb10>"
      ]
     },
     "metadata": {},
     "output_type": "display_data"
    }
   ],
   "source": [
    "plt.hist(np.random.rand(100000), density=True, bins=100, histtype=\"step\", color=\"blue\", label=\"rand\")\n",
    "plt.hist(np.random.randn(100000), density=True, bins=100, histtype=\"step\", color=\"red\", label=\"randn\")\n",
    "plt.axis([-2.5, 2.5, 0, 1.1])\n",
    "plt.legend(loc = \"upper left\")\n",
    "plt.title(\"Random distributions\")\n",
    "plt.xlabel(\"Value\")\n",
    "plt.ylabel(\"Density\")\n",
    "plt.show()"
   ]
  },
  {
   "cell_type": "markdown",
   "metadata": {},
   "source": [
    "## np.fromfunction\n",
    "You can also initialize an `ndarray` using a function:"
   ]
  },
  {
   "cell_type": "code",
   "execution_count": 23,
   "metadata": {},
   "outputs": [
    {
     "data": {
      "text/plain": [
       "array([[[  0.,   1.,   2.,   3.,   4.,   5.,   6.,   7.,   8.,   9.],\n",
       "        [ 10.,  11.,  12.,  13.,  14.,  15.,  16.,  17.,  18.,  19.]],\n",
       "\n",
       "       [[100., 101., 102., 103., 104., 105., 106., 107., 108., 109.],\n",
       "        [110., 111., 112., 113., 114., 115., 116., 117., 118., 119.]],\n",
       "\n",
       "       [[200., 201., 202., 203., 204., 205., 206., 207., 208., 209.],\n",
       "        [210., 211., 212., 213., 214., 215., 216., 217., 218., 219.]]])"
      ]
     },
     "execution_count": 23,
     "metadata": {},
     "output_type": "execute_result"
    }
   ],
   "source": [
    "def my_function(z, y, x):\n",
    "    return x + 10 * y + 100 * z\n",
    "\n",
    "np.fromfunction(my_function, (3, 2, 10))"
   ]
  },
  {
   "cell_type": "markdown",
   "metadata": {},
   "source": [
    "NumPy first creates three `ndarrays` (one per dimension), each of shape `(2, 10)`. Each array has values equal to the coordinate along a specific axis. For example, all elements in the `z` array are equal to their z-coordinate:\n",
    "\n",
    "    [[[ 0.  0.  0.  0.  0.  0.  0.  0.  0.  0.]\n",
    "      [ 0.  0.  0.  0.  0.  0.  0.  0.  0.  0.]]\n",
    "    \n",
    "     [[ 1.  1.  1.  1.  1.  1.  1.  1.  1.  1.]\n",
    "      [ 1.  1.  1.  1.  1.  1.  1.  1.  1.  1.]]\n",
    "    \n",
    "     [[ 2.  2.  2.  2.  2.  2.  2.  2.  2.  2.]\n",
    "      [ 2.  2.  2.  2.  2.  2.  2.  2.  2.  2.]]]\n",
    "\n",
    "So the terms `x`, `y` and `z` in the expression `x + 10 * y + 100 * z` above are in fact `ndarray`s (we will discuss arithmetic operations on arrays below).  The point is that the function `my_function` is only called *once*, instead of once per element. This makes initialization very efficient."
   ]
  },
  {
   "cell_type": "markdown",
   "metadata": {},
   "source": [
    "# Array data\n",
    "## `dtype`\n",
    "NumPy's `ndarray`s are also efficient in part because all their elements must have the same type (usually numbers).\n",
    "You can check what the data type is by looking at the `dtype` attribute:"
   ]
  },
  {
   "cell_type": "code",
   "execution_count": 25,
   "metadata": {
    "scrolled": true
   },
   "outputs": [
    {
     "name": "stdout",
     "output_type": "stream",
     "text": [
      "int64 [1 2 3 4]\n"
     ]
    }
   ],
   "source": [
    "c = np.arange(1, 5)\n",
    "print(c.dtype, c)"
   ]
  },
  {
   "cell_type": "code",
   "execution_count": 26,
   "metadata": {},
   "outputs": [
    {
     "name": "stdout",
     "output_type": "stream",
     "text": [
      "float64 [ 1.  2.  3.  4.]\n"
     ]
    }
   ],
   "source": [
    "c = np.arange(1.0, 5.0)\n",
    "print(c.dtype, c)"
   ]
  },
  {
   "cell_type": "markdown",
   "metadata": {},
   "source": [
    "Instead of letting NumPy guess what data type to use, you can set it explicitly when creating an array by setting the `dtype` parameter:"
   ]
  },
  {
   "cell_type": "code",
   "execution_count": 27,
   "metadata": {},
   "outputs": [
    {
     "name": "stdout",
     "output_type": "stream",
     "text": [
      "complex64 [ 1.+0.j  2.+0.j  3.+0.j  4.+0.j]\n"
     ]
    }
   ],
   "source": [
    "d = np.arange(1, 5, dtype=np.complex64)\n",
    "print(d.dtype, d)"
   ]
  },
  {
   "cell_type": "markdown",
   "metadata": {},
   "source": [
    "Available data types include `int8`, `int16`, `int32`, `int64`, `uint8`|`16`|`32`|`64`, `float16`|`32`|`64` and `complex64`|`128`. Check out [the documentation](http://docs.scipy.org/doc/numpy-1.10.1/user/basics.types.html) for the full list.\n",
    "\n",
    "## `itemsize`\n",
    "The `itemsize` attribute returns the size (in bytes) of each item:"
   ]
  },
  {
   "cell_type": "code",
   "execution_count": 28,
   "metadata": {},
   "outputs": [
    {
     "data": {
      "text/plain": [
       "8"
      ]
     },
     "execution_count": 28,
     "metadata": {},
     "output_type": "execute_result"
    }
   ],
   "source": [
    "e = np.arange(1, 5, dtype=np.complex64)\n",
    "e.itemsize"
   ]
  },
  {
   "cell_type": "markdown",
   "metadata": {},
   "source": [
    "## `data` buffer\n",
    "An array's data is actually stored in memory as a flat (one dimensional) byte buffer. It is available *via* the `data` attribute (you will rarely need it, though)."
   ]
  },
  {
   "cell_type": "code",
   "execution_count": 29,
   "metadata": {},
   "outputs": [
    {
     "data": {
      "text/plain": [
       "<read-write buffer for 0x10f8a18a0, size 16, offset 0 at 0x10f9dbbb0>"
      ]
     },
     "execution_count": 29,
     "metadata": {},
     "output_type": "execute_result"
    }
   ],
   "source": [
    "f = np.array([[1,2],[1000, 2000]], dtype=np.int32)\n",
    "f.data"
   ]
  },
  {
   "cell_type": "markdown",
   "metadata": {},
   "source": [
    "In python 2, `f.data` is a buffer. In python 3, it is a memoryview."
   ]
  },
  {
   "cell_type": "code",
   "execution_count": 30,
   "metadata": {},
   "outputs": [
    {
     "data": {
      "text/plain": [
       "'\\x01\\x00\\x00\\x00\\x02\\x00\\x00\\x00\\xe8\\x03\\x00\\x00\\xd0\\x07\\x00\\x00'"
      ]
     },
     "execution_count": 30,
     "metadata": {},
     "output_type": "execute_result"
    }
   ],
   "source": [
    "if (hasattr(f.data, \"tobytes\")):\n",
    "    data_bytes = f.data.tobytes() # python 3\n",
    "else:\n",
    "    data_bytes = memoryview(f.data).tobytes() # python 2\n",
    "\n",
    "data_bytes"
   ]
  },
  {
   "cell_type": "markdown",
   "metadata": {},
   "source": [
    "Several `ndarrays` can share the same data buffer, meaning that modifying one will also modify the others. We will see an example in a minute."
   ]
  },
  {
   "cell_type": "markdown",
   "metadata": {},
   "source": [
    "# Reshaping an array\n",
    "## In place\n",
    "Changing the shape of an `ndarray` is as simple as setting its `shape` attribute. However, the array's size must remain the same."
   ]
  },
  {
   "cell_type": "code",
   "execution_count": 31,
   "metadata": {},
   "outputs": [
    {
     "name": "stdout",
     "output_type": "stream",
     "text": [
      "[ 0  1  2  3  4  5  6  7  8  9 10 11 12 13 14 15 16 17 18 19 20 21 22 23]\n",
      "Rank: 1\n"
     ]
    }
   ],
   "source": [
    "g = np.arange(24)\n",
    "print(g)\n",
    "print(\"Rank:\", g.ndim)"
   ]
  },
  {
   "cell_type": "code",
   "execution_count": 32,
   "metadata": {},
   "outputs": [
    {
     "name": "stdout",
     "output_type": "stream",
     "text": [
      "[[ 0  1  2  3]\n",
      " [ 4  5  6  7]\n",
      " [ 8  9 10 11]\n",
      " [12 13 14 15]\n",
      " [16 17 18 19]\n",
      " [20 21 22 23]]\n",
      "Rank: 2\n"
     ]
    }
   ],
   "source": [
    "g.shape = (6, 4)\n",
    "print(g)\n",
    "print(\"Rank:\", g.ndim)"
   ]
  },
  {
   "cell_type": "code",
   "execution_count": 33,
   "metadata": {
    "scrolled": true
   },
   "outputs": [
    {
     "name": "stdout",
     "output_type": "stream",
     "text": [
      "[[[ 0  1  2  3]\n",
      "  [ 4  5  6  7]\n",
      "  [ 8  9 10 11]]\n",
      "\n",
      " [[12 13 14 15]\n",
      "  [16 17 18 19]\n",
      "  [20 21 22 23]]]\n",
      "Rank: 3\n"
     ]
    }
   ],
   "source": [
    "g.shape = (2, 3, 4)\n",
    "print(g)\n",
    "print(\"Rank:\", g.ndim)"
   ]
  },
  {
   "cell_type": "markdown",
   "metadata": {},
   "source": [
    "## `reshape`\n",
    "The `reshape` function returns a new `ndarray` object pointing at the *same* data. This means that modifying one array will also modify the other."
   ]
  },
  {
   "cell_type": "code",
   "execution_count": 34,
   "metadata": {
    "scrolled": true
   },
   "outputs": [
    {
     "name": "stdout",
     "output_type": "stream",
     "text": [
      "[[ 0  1  2  3  4  5]\n",
      " [ 6  7  8  9 10 11]\n",
      " [12 13 14 15 16 17]\n",
      " [18 19 20 21 22 23]]\n",
      "Rank: 2\n"
     ]
    }
   ],
   "source": [
    "g2 = g.reshape(4,6)\n",
    "print(g2)\n",
    "print(\"Rank:\", g2.ndim)"
   ]
  },
  {
   "cell_type": "markdown",
   "metadata": {},
   "source": [
    "Set item at row 1, col 2 to 999 (more about indexing below)."
   ]
  },
  {
   "cell_type": "code",
   "execution_count": 35,
   "metadata": {},
   "outputs": [
    {
     "data": {
      "text/plain": [
       "array([[  0,   1,   2,   3,   4,   5],\n",
       "       [  6,   7, 999,   9,  10,  11],\n",
       "       [ 12,  13,  14,  15,  16,  17],\n",
       "       [ 18,  19,  20,  21,  22,  23]])"
      ]
     },
     "execution_count": 35,
     "metadata": {},
     "output_type": "execute_result"
    }
   ],
   "source": [
    "g2[1, 2] = 999\n",
    "g2"
   ]
  },
  {
   "cell_type": "markdown",
   "metadata": {},
   "source": [
    "The corresponding element in `g` has been modified."
   ]
  },
  {
   "cell_type": "code",
   "execution_count": 36,
   "metadata": {},
   "outputs": [
    {
     "data": {
      "text/plain": [
       "array([[[  0,   1,   2,   3],\n",
       "        [  4,   5,   6,   7],\n",
       "        [999,   9,  10,  11]],\n",
       "\n",
       "       [[ 12,  13,  14,  15],\n",
       "        [ 16,  17,  18,  19],\n",
       "        [ 20,  21,  22,  23]]])"
      ]
     },
     "execution_count": 36,
     "metadata": {},
     "output_type": "execute_result"
    }
   ],
   "source": [
    "g"
   ]
  },
  {
   "cell_type": "markdown",
   "metadata": {},
   "source": [
    "## `ravel`\n",
    "Finally, the `ravel` function returns a new one-dimensional `ndarray` that also points to the same data:"
   ]
  },
  {
   "cell_type": "code",
   "execution_count": 37,
   "metadata": {},
   "outputs": [
    {
     "data": {
      "text/plain": [
       "array([  0,   1,   2,   3,   4,   5,   6,   7, 999,   9,  10,  11,  12,\n",
       "        13,  14,  15,  16,  17,  18,  19,  20,  21,  22,  23])"
      ]
     },
     "execution_count": 37,
     "metadata": {},
     "output_type": "execute_result"
    }
   ],
   "source": [
    "g.ravel()"
   ]
  },
  {
   "cell_type": "markdown",
   "metadata": {},
   "source": [
    "# Arithmetic operations\n",
    "All the usual arithmetic operators (`+`, `-`, `*`, `/`, `//`, `**`, etc.) can be used with `ndarray`s. They apply *elementwise*:"
   ]
  },
  {
   "cell_type": "code",
   "execution_count": 38,
   "metadata": {},
   "outputs": [
    {
     "name": "stdout",
     "output_type": "stream",
     "text": [
      "a + b  = [19 27 35 43]\n",
      "a - b  = [ 9 19 29 39]\n",
      "a * b  = [70 92 96 82]\n",
      "a / b  = [  2.8          5.75        10.66666667  20.5       ]\n",
      "a // b  = [ 2  5 10 20]\n",
      "a % b  = [4 3 2 1]\n",
      "a ** b = [537824 279841  32768   1681]\n"
     ]
    }
   ],
   "source": [
    "a = np.array([14, 23, 32, 41])\n",
    "b = np.array([5,  4,  3,  2])\n",
    "print(\"a + b  =\", a + b)\n",
    "print(\"a - b  =\", a - b)\n",
    "print(\"a * b  =\", a * b)\n",
    "print(\"a / b  =\", a / b)\n",
    "print(\"a // b  =\", a // b)\n",
    "print(\"a % b  =\", a % b)\n",
    "print(\"a ** b =\", a ** b)"
   ]
  },
  {
   "cell_type": "markdown",
   "metadata": {},
   "source": [
    "Note that the multiplication is *not* a matrix multiplication. We will discuss matrix operations below.\n",
    "\n",
    "The arrays must have the same shape. If they do not, NumPy will apply the *broadcasting rules*."
   ]
  },
  {
   "cell_type": "markdown",
   "metadata": {},
   "source": [
    "# Broadcasting"
   ]
  },
  {
   "cell_type": "markdown",
   "metadata": {},
   "source": [
    "In general, when NumPy expects arrays of the same shape but finds that this is not the case, it applies the so-called *broadcasting* rules:\n",
    "\n",
    "## First rule\n",
    "*If the arrays do not have the same rank, then a 1 will be prepended to the smaller ranking arrays until their ranks match.*"
   ]
  },
  {
   "cell_type": "code",
   "execution_count": 39,
   "metadata": {},
   "outputs": [
    {
     "data": {
      "text/plain": [
       "array([[[0, 1, 2, 3, 4]]])"
      ]
     },
     "execution_count": 39,
     "metadata": {},
     "output_type": "execute_result"
    }
   ],
   "source": [
    "h = np.arange(5).reshape(1, 1, 5)\n",
    "h"
   ]
  },
  {
   "cell_type": "markdown",
   "metadata": {},
   "source": [
    "Now let's try to add a 1D array of shape `(5,)` to this 3D array of shape `(1,1,5)`. Applying the first rule of broadcasting!"
   ]
  },
  {
   "cell_type": "code",
   "execution_count": 40,
   "metadata": {},
   "outputs": [
    {
     "data": {
      "text/plain": [
       "array([[[10, 21, 32, 43, 54]]])"
      ]
     },
     "execution_count": 40,
     "metadata": {},
     "output_type": "execute_result"
    }
   ],
   "source": [
    "h + [10, 20, 30, 40, 50]  # same as: h + [[[10, 20, 30, 40, 50]]]"
   ]
  },
  {
   "cell_type": "markdown",
   "metadata": {},
   "source": [
    "## Second rule\n",
    "*Arrays with a 1 along a particular dimension act as if they had the size of the array with the largest shape along that dimension. The value of the array element is repeated along that dimension.*"
   ]
  },
  {
   "cell_type": "code",
   "execution_count": 41,
   "metadata": {},
   "outputs": [
    {
     "data": {
      "text/plain": [
       "array([[0, 1, 2],\n",
       "       [3, 4, 5]])"
      ]
     },
     "execution_count": 41,
     "metadata": {},
     "output_type": "execute_result"
    }
   ],
   "source": [
    "k = np.arange(6).reshape(2, 3)\n",
    "k"
   ]
  },
  {
   "cell_type": "markdown",
   "metadata": {},
   "source": [
    "Let's try to add a 2D array of shape `(2,1)` to this 2D `ndarray` of shape `(2, 3)`. NumPy will apply the second rule of broadcasting:"
   ]
  },
  {
   "cell_type": "code",
   "execution_count": 42,
   "metadata": {},
   "outputs": [
    {
     "data": {
      "text/plain": [
       "array([[100, 101, 102],\n",
       "       [203, 204, 205]])"
      ]
     },
     "execution_count": 42,
     "metadata": {},
     "output_type": "execute_result"
    }
   ],
   "source": [
    "k + [[100], [200]]  # same as: k + [[100, 100, 100], [200, 200, 200]]"
   ]
  },
  {
   "cell_type": "markdown",
   "metadata": {},
   "source": [
    "Combining rules 1 & 2, we can do this:"
   ]
  },
  {
   "cell_type": "code",
   "execution_count": 43,
   "metadata": {},
   "outputs": [
    {
     "data": {
      "text/plain": [
       "array([[100, 201, 302],\n",
       "       [103, 204, 305]])"
      ]
     },
     "execution_count": 43,
     "metadata": {},
     "output_type": "execute_result"
    }
   ],
   "source": [
    "k + [100, 200, 300]  # after rule 1: [[100, 200, 300]], and after rule 2: [[100, 200, 300], [100, 200, 300]]"
   ]
  },
  {
   "cell_type": "markdown",
   "metadata": {},
   "source": [
    "And also, very simply:"
   ]
  },
  {
   "cell_type": "code",
   "execution_count": 44,
   "metadata": {},
   "outputs": [
    {
     "data": {
      "text/plain": [
       "array([[1000, 1001, 1002],\n",
       "       [1003, 1004, 1005]])"
      ]
     },
     "execution_count": 44,
     "metadata": {},
     "output_type": "execute_result"
    }
   ],
   "source": [
    "k + 1000  # same as: k + [[1000, 1000, 1000], [1000, 1000, 1000]]"
   ]
  },
  {
   "cell_type": "markdown",
   "metadata": {},
   "source": [
    "## Third rule\n",
    "*After rules 1 & 2, the sizes of all arrays must match.*"
   ]
  },
  {
   "cell_type": "code",
   "execution_count": 45,
   "metadata": {},
   "outputs": [
    {
     "name": "stdout",
     "output_type": "stream",
     "text": [
      "operands could not be broadcast together with shapes (2,3) (2,) \n"
     ]
    }
   ],
   "source": [
    "try:\n",
    "    k + [33, 44]\n",
    "except ValueError as e:\n",
    "    print(e)"
   ]
  },
  {
   "cell_type": "markdown",
   "metadata": {},
   "source": [
    "Broadcasting rules are used in many NumPy operations, not just arithmetic operations, as we will see below.\n",
    "For more details about broadcasting, check out [the documentation](https://docs.scipy.org/doc/numpy-dev/user/basics.broadcasting.html)."
   ]
  },
  {
   "cell_type": "markdown",
   "metadata": {},
   "source": [
    "## Upcasting\n",
    "When trying to combine arrays with different `dtype`s, NumPy will *upcast* to a type capable of handling all possible values (regardless of what the *actual* values are)."
   ]
  },
  {
   "cell_type": "code",
   "execution_count": 46,
   "metadata": {},
   "outputs": [
    {
     "name": "stdout",
     "output_type": "stream",
     "text": [
      "uint8 [0 1 2 3 4]\n"
     ]
    }
   ],
   "source": [
    "k1 = np.arange(0, 5, dtype=np.uint8)\n",
    "print(k1.dtype, k1)"
   ]
  },
  {
   "cell_type": "code",
   "execution_count": 47,
   "metadata": {},
   "outputs": [
    {
     "name": "stdout",
     "output_type": "stream",
     "text": [
      "int16 [ 5  7  9 11 13]\n"
     ]
    }
   ],
   "source": [
    "k2 = k1 + np.array([5, 6, 7, 8, 9], dtype=np.int8)\n",
    "print(k2.dtype, k2)"
   ]
  },
  {
   "cell_type": "markdown",
   "metadata": {},
   "source": [
    "Note that `int16` is required to represent all *possible* `int8` and `uint8` values (from -128 to 255), even though in this case a uint8 would have sufficed."
   ]
  },
  {
   "cell_type": "code",
   "execution_count": 48,
   "metadata": {},
   "outputs": [
    {
     "name": "stdout",
     "output_type": "stream",
     "text": [
      "float64 [ 1.5  2.5  3.5  4.5  5.5]\n"
     ]
    }
   ],
   "source": [
    "k3 = k1 + 1.5\n",
    "print(k3.dtype, k3)"
   ]
  },
  {
   "cell_type": "markdown",
   "metadata": {},
   "source": [
    "# Conditional operators"
   ]
  },
  {
   "cell_type": "markdown",
   "metadata": {},
   "source": [
    "The conditional operators also apply elementwise:"
   ]
  },
  {
   "cell_type": "code",
   "execution_count": 49,
   "metadata": {},
   "outputs": [
    {
     "data": {
      "text/plain": [
       "array([False,  True,  True, False], dtype=bool)"
      ]
     },
     "execution_count": 49,
     "metadata": {},
     "output_type": "execute_result"
    }
   ],
   "source": [
    "m = np.array([20, -5, 30, 40])\n",
    "m < [15, 16, 35, 36]"
   ]
  },
  {
   "cell_type": "markdown",
   "metadata": {},
   "source": [
    "And using broadcasting:"
   ]
  },
  {
   "cell_type": "code",
   "execution_count": 50,
   "metadata": {},
   "outputs": [
    {
     "data": {
      "text/plain": [
       "array([ True,  True, False, False], dtype=bool)"
      ]
     },
     "execution_count": 50,
     "metadata": {},
     "output_type": "execute_result"
    }
   ],
   "source": [
    "m < 25  # equivalent to m < [25, 25, 25, 25]"
   ]
  },
  {
   "cell_type": "markdown",
   "metadata": {},
   "source": [
    "This is most useful in conjunction with boolean indexing (discussed below)."
   ]
  },
  {
   "cell_type": "code",
   "execution_count": 51,
   "metadata": {},
   "outputs": [
    {
     "data": {
      "text/plain": [
       "array([20, -5])"
      ]
     },
     "execution_count": 51,
     "metadata": {},
     "output_type": "execute_result"
    }
   ],
   "source": [
    "m[m < 25]"
   ]
  },
  {
   "cell_type": "markdown",
   "metadata": {},
   "source": [
    "# Mathematical and statistical functions"
   ]
  },
  {
   "cell_type": "markdown",
   "metadata": {},
   "source": [
    "Many mathematical and statistical functions are available for `ndarray`s.\n",
    "\n",
    "## `ndarray` methods\n",
    "Some functions are simply `ndarray` methods, for example:"
   ]
  },
  {
   "cell_type": "code",
   "execution_count": 52,
   "metadata": {},
   "outputs": [
    {
     "name": "stdout",
     "output_type": "stream",
     "text": [
      "[[ -2.5   3.1   7. ]\n",
      " [ 10.   11.   12. ]]\n",
      "mean = 6.76666666667\n"
     ]
    }
   ],
   "source": [
    "a = np.array([[-2.5, 3.1, 7], [10, 11, 12]])\n",
    "print(a)\n",
    "print(\"mean =\", a.mean())"
   ]
  },
  {
   "cell_type": "markdown",
   "metadata": {},
   "source": [
    "Note that this computes the mean of all elements in the `ndarray`, regardless of its shape.\n",
    "\n",
    "Here are a few more useful `ndarray` methods:"
   ]
  },
  {
   "cell_type": "code",
   "execution_count": 53,
   "metadata": {},
   "outputs": [
    {
     "name": "stdout",
     "output_type": "stream",
     "text": [
      "min = -2.5\n",
      "max = 12.0\n",
      "sum = 40.6\n",
      "prod = -71610.0\n",
      "std = 5.08483584352\n",
      "var = 25.8555555556\n"
     ]
    }
   ],
   "source": [
    "for func in (a.min, a.max, a.sum, a.prod, a.std, a.var):\n",
    "    print(func.__name__, \"=\", func())"
   ]
  },
  {
   "cell_type": "markdown",
   "metadata": {},
   "source": [
    "These functions accept an optional argument `axis` which lets you ask for the operation to be performed on elements along the given axis. For example:"
   ]
  },
  {
   "cell_type": "code",
   "execution_count": 54,
   "metadata": {},
   "outputs": [
    {
     "data": {
      "text/plain": [
       "array([[[ 0,  1,  2,  3],\n",
       "        [ 4,  5,  6,  7],\n",
       "        [ 8,  9, 10, 11]],\n",
       "\n",
       "       [[12, 13, 14, 15],\n",
       "        [16, 17, 18, 19],\n",
       "        [20, 21, 22, 23]]])"
      ]
     },
     "execution_count": 54,
     "metadata": {},
     "output_type": "execute_result"
    }
   ],
   "source": [
    "c=np.arange(24).reshape(2,3,4)\n",
    "c"
   ]
  },
  {
   "cell_type": "code",
   "execution_count": 55,
   "metadata": {},
   "outputs": [
    {
     "data": {
      "text/plain": [
       "array([[12, 14, 16, 18],\n",
       "       [20, 22, 24, 26],\n",
       "       [28, 30, 32, 34]])"
      ]
     },
     "execution_count": 55,
     "metadata": {},
     "output_type": "execute_result"
    }
   ],
   "source": [
    "c.sum(axis=0)  # sum across matrices"
   ]
  },
  {
   "cell_type": "code",
   "execution_count": 56,
   "metadata": {},
   "outputs": [
    {
     "data": {
      "text/plain": [
       "array([[12, 15, 18, 21],\n",
       "       [48, 51, 54, 57]])"
      ]
     },
     "execution_count": 56,
     "metadata": {},
     "output_type": "execute_result"
    }
   ],
   "source": [
    "c.sum(axis=1)  # sum across rows"
   ]
  },
  {
   "cell_type": "markdown",
   "metadata": {},
   "source": [
    "You can also sum over multiple axes:"
   ]
  },
  {
   "cell_type": "code",
   "execution_count": 57,
   "metadata": {},
   "outputs": [
    {
     "data": {
      "text/plain": [
       "array([ 60,  92, 124])"
      ]
     },
     "execution_count": 57,
     "metadata": {},
     "output_type": "execute_result"
    }
   ],
   "source": [
    "c.sum(axis=(0,2))  # sum across matrices and columns"
   ]
  },
  {
   "cell_type": "code",
   "execution_count": 58,
   "metadata": {},
   "outputs": [
    {
     "data": {
      "text/plain": [
       "(60, 92, 124)"
      ]
     },
     "execution_count": 58,
     "metadata": {},
     "output_type": "execute_result"
    }
   ],
   "source": [
    "0+1+2+3 + 12+13+14+15, 4+5+6+7 + 16+17+18+19, 8+9+10+11 + 20+21+22+23"
   ]
  },
  {
   "cell_type": "markdown",
   "metadata": {},
   "source": [
    "## Universal functions\n",
    "NumPy also provides fast elementwise functions called *universal functions*, or **ufunc**. They are vectorized wrappers of simple functions. For example `square` returns a new `ndarray` which is a copy of the original `ndarray` except that each element is squared:"
   ]
  },
  {
   "cell_type": "code",
   "execution_count": 59,
   "metadata": {},
   "outputs": [
    {
     "data": {
      "text/plain": [
       "array([[   6.25,    9.61,   49.  ],\n",
       "       [ 100.  ,  121.  ,  144.  ]])"
      ]
     },
     "execution_count": 59,
     "metadata": {},
     "output_type": "execute_result"
    }
   ],
   "source": [
    "a = np.array([[-2.5, 3.1, 7], [10, 11, 12]])\n",
    "np.square(a)"
   ]
  },
  {
   "cell_type": "markdown",
   "metadata": {},
   "source": [
    "Here are a few more useful unary ufuncs:"
   ]
  },
  {
   "cell_type": "code",
   "execution_count": 60,
   "metadata": {},
   "outputs": [
    {
     "name": "stdout",
     "output_type": "stream",
     "text": [
      "Original ndarray\n",
      "[[ -2.5   3.1   7. ]\n",
      " [ 10.   11.   12. ]]\n",
      "\n",
      " absolute\n",
      "[[  2.5   3.1   7. ]\n",
      " [ 10.   11.   12. ]]\n",
      "\n",
      " sqrt\n",
      "[[        nan  1.76068169  2.64575131]\n",
      " [ 3.16227766  3.31662479  3.46410162]]\n",
      "\n",
      " exp\n",
      "[[  8.20849986e-02   2.21979513e+01   1.09663316e+03]\n",
      " [  2.20264658e+04   5.98741417e+04   1.62754791e+05]]\n",
      "\n",
      " log\n",
      "[[        nan  1.13140211  1.94591015]\n",
      " [ 2.30258509  2.39789527  2.48490665]]\n",
      "\n",
      " sign\n",
      "[[-1.  1.  1.]\n",
      " [ 1.  1.  1.]]\n",
      "\n",
      " ceil\n",
      "[[ -2.   4.   7.]\n",
      " [ 10.  11.  12.]]\n",
      "\n",
      " modf\n",
      "(array([[-0.5,  0.1,  0. ],\n",
      "       [ 0. ,  0. ,  0. ]]), array([[ -2.,   3.,   7.],\n",
      "       [ 10.,  11.,  12.]]))\n",
      "\n",
      " isnan\n",
      "[[False False False]\n",
      " [False False False]]\n",
      "\n",
      " cos\n",
      "[[-0.80114362 -0.99913515  0.75390225]\n",
      " [-0.83907153  0.0044257   0.84385396]]\n"
     ]
    },
    {
     "name": "stderr",
     "output_type": "stream",
     "text": [
      "-c:5: RuntimeWarning: invalid value encountered in sqrt\n",
      "-c:5: RuntimeWarning: invalid value encountered in log\n"
     ]
    }
   ],
   "source": [
    "print(\"Original ndarray\")\n",
    "print(a)\n",
    "for func in (np.abs, np.sqrt, np.exp, np.log, np.sign, np.ceil, np.modf, np.isnan, np.cos):\n",
    "    print(\"\\n\", func.__name__)\n",
    "    print(func(a))"
   ]
  },
  {
   "cell_type": "markdown",
   "metadata": {},
   "source": [
    "## Binary ufuncs\n",
    "There are also many binary ufuncs, that apply elementwise on two `ndarray`s.  Broadcasting rules are applied if the arrays do not have the same shape:"
   ]
  },
  {
   "cell_type": "code",
   "execution_count": 61,
   "metadata": {},
   "outputs": [
    {
     "data": {
      "text/plain": [
       "array([ 3,  6,  2, 11])"
      ]
     },
     "execution_count": 61,
     "metadata": {},
     "output_type": "execute_result"
    }
   ],
   "source": [
    "a = np.array([1, -2, 3, 4])\n",
    "b = np.array([2, 8, -1, 7])\n",
    "np.add(a, b)  # equivalent to a + b"
   ]
  },
  {
   "cell_type": "code",
   "execution_count": 62,
   "metadata": {},
   "outputs": [
    {
     "data": {
      "text/plain": [
       "array([False, False,  True, False], dtype=bool)"
      ]
     },
     "execution_count": 62,
     "metadata": {},
     "output_type": "execute_result"
    }
   ],
   "source": [
    "np.greater(a, b)  # equivalent to a > b"
   ]
  },
  {
   "cell_type": "code",
   "execution_count": 63,
   "metadata": {},
   "outputs": [
    {
     "data": {
      "text/plain": [
       "array([2, 8, 3, 7])"
      ]
     },
     "execution_count": 63,
     "metadata": {},
     "output_type": "execute_result"
    }
   ],
   "source": [
    "np.maximum(a, b)"
   ]
  },
  {
   "cell_type": "code",
   "execution_count": 64,
   "metadata": {},
   "outputs": [
    {
     "data": {
      "text/plain": [
       "array([ 1.,  2., -3.,  4.])"
      ]
     },
     "execution_count": 64,
     "metadata": {},
     "output_type": "execute_result"
    }
   ],
   "source": [
    "np.copysign(a, b)"
   ]
  },
  {
   "cell_type": "markdown",
   "metadata": {},
   "source": [
    "# Array indexing\n",
    "## One-dimensional arrays\n",
    "One-dimensional NumPy arrays can be accessed more or less like regular python arrays:"
   ]
  },
  {
   "cell_type": "code",
   "execution_count": 65,
   "metadata": {},
   "outputs": [
    {
     "data": {
      "text/plain": [
       "19"
      ]
     },
     "execution_count": 65,
     "metadata": {},
     "output_type": "execute_result"
    }
   ],
   "source": [
    "a = np.array([1, 5, 3, 19, 13, 7, 3])\n",
    "a[3]"
   ]
  },
  {
   "cell_type": "code",
   "execution_count": 66,
   "metadata": {},
   "outputs": [
    {
     "data": {
      "text/plain": [
       "array([ 3, 19, 13])"
      ]
     },
     "execution_count": 66,
     "metadata": {},
     "output_type": "execute_result"
    }
   ],
   "source": [
    "a[2:5]"
   ]
  },
  {
   "cell_type": "code",
   "execution_count": 67,
   "metadata": {},
   "outputs": [
    {
     "data": {
      "text/plain": [
       "array([ 3, 19, 13,  7])"
      ]
     },
     "execution_count": 67,
     "metadata": {},
     "output_type": "execute_result"
    }
   ],
   "source": [
    "a[2:-1]"
   ]
  },
  {
   "cell_type": "code",
   "execution_count": 68,
   "metadata": {},
   "outputs": [
    {
     "data": {
      "text/plain": [
       "array([1, 5])"
      ]
     },
     "execution_count": 68,
     "metadata": {},
     "output_type": "execute_result"
    }
   ],
   "source": [
    "a[:2]"
   ]
  },
  {
   "cell_type": "code",
   "execution_count": 69,
   "metadata": {},
   "outputs": [
    {
     "data": {
      "text/plain": [
       "array([ 3, 13,  3])"
      ]
     },
     "execution_count": 69,
     "metadata": {},
     "output_type": "execute_result"
    }
   ],
   "source": [
    "a[2::2]"
   ]
  },
  {
   "cell_type": "code",
   "execution_count": 70,
   "metadata": {},
   "outputs": [
    {
     "data": {
      "text/plain": [
       "array([ 3,  7, 13, 19,  3,  5,  1])"
      ]
     },
     "execution_count": 70,
     "metadata": {},
     "output_type": "execute_result"
    }
   ],
   "source": [
    "a[::-1]"
   ]
  },
  {
   "cell_type": "markdown",
   "metadata": {},
   "source": [
    "Of course, you can modify elements:"
   ]
  },
  {
   "cell_type": "code",
   "execution_count": 71,
   "metadata": {},
   "outputs": [
    {
     "data": {
      "text/plain": [
       "array([  1,   5,   3, 999,  13,   7,   3])"
      ]
     },
     "execution_count": 71,
     "metadata": {},
     "output_type": "execute_result"
    }
   ],
   "source": [
    "a[3]=999\n",
    "a"
   ]
  },
  {
   "cell_type": "markdown",
   "metadata": {},
   "source": [
    "You can also modify an `ndarray` slice:"
   ]
  },
  {
   "cell_type": "code",
   "execution_count": 72,
   "metadata": {},
   "outputs": [
    {
     "data": {
      "text/plain": [
       "array([  1,   5, 997, 998, 999,   7,   3])"
      ]
     },
     "execution_count": 72,
     "metadata": {},
     "output_type": "execute_result"
    }
   ],
   "source": [
    "a[2:5] = [997, 998, 999]\n",
    "a"
   ]
  },
  {
   "cell_type": "markdown",
   "metadata": {},
   "source": [
    "## Differences with regular python arrays\n",
    "Contrary to regular python arrays, if you assign a single value to an `ndarray` slice, it is copied across the whole slice, thanks to broadcasting rules discussed above."
   ]
  },
  {
   "cell_type": "code",
   "execution_count": 73,
   "metadata": {},
   "outputs": [
    {
     "data": {
      "text/plain": [
       "array([ 1,  5, -1, -1, -1,  7,  3])"
      ]
     },
     "execution_count": 73,
     "metadata": {},
     "output_type": "execute_result"
    }
   ],
   "source": [
    "a[2:5] = -1\n",
    "a"
   ]
  },
  {
   "cell_type": "markdown",
   "metadata": {},
   "source": [
    "Also, you cannot grow or shrink `ndarray`s this way:"
   ]
  },
  {
   "cell_type": "code",
   "execution_count": 74,
   "metadata": {},
   "outputs": [
    {
     "name": "stdout",
     "output_type": "stream",
     "text": [
      "cannot copy sequence with size 6 to array axis with dimension 3\n"
     ]
    }
   ],
   "source": [
    "try:\n",
    "    a[2:5] = [1,2,3,4,5,6]  # too long\n",
    "except ValueError as e:\n",
    "    print(e)"
   ]
  },
  {
   "cell_type": "markdown",
   "metadata": {},
   "source": [
    "You cannot delete elements either:"
   ]
  },
  {
   "cell_type": "code",
   "execution_count": 75,
   "metadata": {},
   "outputs": [
    {
     "name": "stdout",
     "output_type": "stream",
     "text": [
      "cannot delete array elements\n"
     ]
    }
   ],
   "source": [
    "try:\n",
    "    del a[2:5]\n",
    "except ValueError as e:\n",
    "    print(e)"
   ]
  },
  {
   "cell_type": "markdown",
   "metadata": {},
   "source": [
    "Last but not least, `ndarray` **slices are actually *views*** on the same data buffer. This means that if you create a slice and modify it, you are actually going to modify the original `ndarray` as well!"
   ]
  },
  {
   "cell_type": "code",
   "execution_count": 76,
   "metadata": {},
   "outputs": [
    {
     "data": {
      "text/plain": [
       "array([   1,    5,   -1, 1000,   -1,    7,    3])"
      ]
     },
     "execution_count": 76,
     "metadata": {},
     "output_type": "execute_result"
    }
   ],
   "source": [
    "a_slice = a[2:6]\n",
    "a_slice[1] = 1000\n",
    "a  # the original array was modified!"
   ]
  },
  {
   "cell_type": "code",
   "execution_count": 77,
   "metadata": {},
   "outputs": [
    {
     "data": {
      "text/plain": [
       "array([  -1, 2000,   -1,    7])"
      ]
     },
     "execution_count": 77,
     "metadata": {},
     "output_type": "execute_result"
    }
   ],
   "source": [
    "a[3] = 2000\n",
    "a_slice  # similarly, modifying the original array modifies the slice!"
   ]
  },
  {
   "cell_type": "markdown",
   "metadata": {},
   "source": [
    "If you want a copy of the data, you need to use the `copy` method:"
   ]
  },
  {
   "cell_type": "code",
   "execution_count": 78,
   "metadata": {},
   "outputs": [
    {
     "data": {
      "text/plain": [
       "array([   1,    5,   -1, 2000,   -1,    7,    3])"
      ]
     },
     "execution_count": 78,
     "metadata": {},
     "output_type": "execute_result"
    }
   ],
   "source": [
    "another_slice = a[2:6].copy()\n",
    "another_slice[1] = 3000\n",
    "a  # the original array is untouched"
   ]
  },
  {
   "cell_type": "code",
   "execution_count": 79,
   "metadata": {},
   "outputs": [
    {
     "data": {
      "text/plain": [
       "array([  -1, 3000,   -1,    7])"
      ]
     },
     "execution_count": 79,
     "metadata": {},
     "output_type": "execute_result"
    }
   ],
   "source": [
    "a[3] = 4000\n",
    "another_slice  # similary, modifying the original array does not affect the slice copy"
   ]
  },
  {
   "cell_type": "markdown",
   "metadata": {},
   "source": [
    "## Multi-dimensional arrays\n",
    "Multi-dimensional arrays can be accessed in a similar way by providing an index or slice for each axis, separated by commas:"
   ]
  },
  {
   "cell_type": "code",
   "execution_count": 80,
   "metadata": {},
   "outputs": [
    {
     "data": {
      "text/plain": [
       "array([[ 0,  1,  2,  3,  4,  5,  6,  7,  8,  9, 10, 11],\n",
       "       [12, 13, 14, 15, 16, 17, 18, 19, 20, 21, 22, 23],\n",
       "       [24, 25, 26, 27, 28, 29, 30, 31, 32, 33, 34, 35],\n",
       "       [36, 37, 38, 39, 40, 41, 42, 43, 44, 45, 46, 47]])"
      ]
     },
     "execution_count": 80,
     "metadata": {},
     "output_type": "execute_result"
    }
   ],
   "source": [
    "b = np.arange(48).reshape(4, 12)\n",
    "b"
   ]
  },
  {
   "cell_type": "code",
   "execution_count": 81,
   "metadata": {},
   "outputs": [
    {
     "data": {
      "text/plain": [
       "14"
      ]
     },
     "execution_count": 81,
     "metadata": {},
     "output_type": "execute_result"
    }
   ],
   "source": [
    "b[1, 2]  # row 1, col 2"
   ]
  },
  {
   "cell_type": "code",
   "execution_count": 82,
   "metadata": {},
   "outputs": [
    {
     "data": {
      "text/plain": [
       "array([12, 13, 14, 15, 16, 17, 18, 19, 20, 21, 22, 23])"
      ]
     },
     "execution_count": 82,
     "metadata": {},
     "output_type": "execute_result"
    }
   ],
   "source": [
    "b[1, :]  # row 1, all columns"
   ]
  },
  {
   "cell_type": "code",
   "execution_count": 83,
   "metadata": {},
   "outputs": [
    {
     "data": {
      "text/plain": [
       "array([ 1, 13, 25, 37])"
      ]
     },
     "execution_count": 83,
     "metadata": {},
     "output_type": "execute_result"
    }
   ],
   "source": [
    "b[:, 1]  # all rows, column 1"
   ]
  },
  {
   "cell_type": "markdown",
   "metadata": {},
   "source": [
    "**Caution**: note the subtle difference between these two expressions: "
   ]
  },
  {
   "cell_type": "code",
   "execution_count": 84,
   "metadata": {
    "scrolled": true
   },
   "outputs": [
    {
     "data": {
      "text/plain": [
       "array([12, 13, 14, 15, 16, 17, 18, 19, 20, 21, 22, 23])"
      ]
     },
     "execution_count": 84,
     "metadata": {},
     "output_type": "execute_result"
    }
   ],
   "source": [
    "b[1, :]"
   ]
  },
  {
   "cell_type": "code",
   "execution_count": 85,
   "metadata": {},
   "outputs": [
    {
     "data": {
      "text/plain": [
       "array([[12, 13, 14, 15, 16, 17, 18, 19, 20, 21, 22, 23]])"
      ]
     },
     "execution_count": 85,
     "metadata": {},
     "output_type": "execute_result"
    }
   ],
   "source": [
    "b[1:2, :]"
   ]
  },
  {
   "cell_type": "markdown",
   "metadata": {},
   "source": [
    "The first expression returns row 1 as a 1D array of shape `(12,)`, while the second returns that same row as a 2D array of shape `(1, 12)`."
   ]
  },
  {
   "cell_type": "markdown",
   "metadata": {},
   "source": [
    "## Fancy indexing\n",
    "You may also specify a list of indices that you are interested in. This is referred to as *fancy indexing*."
   ]
  },
  {
   "cell_type": "code",
   "execution_count": 86,
   "metadata": {
    "scrolled": true
   },
   "outputs": [
    {
     "data": {
      "text/plain": [
       "array([[ 2,  3,  4],\n",
       "       [26, 27, 28]])"
      ]
     },
     "execution_count": 86,
     "metadata": {},
     "output_type": "execute_result"
    }
   ],
   "source": [
    "b[(0,2), 2:5]  # rows 0 and 2, columns 2 to 4 (5-1)"
   ]
  },
  {
   "cell_type": "code",
   "execution_count": 87,
   "metadata": {},
   "outputs": [
    {
     "data": {
      "text/plain": [
       "array([[11,  2, 11],\n",
       "       [23, 14, 23],\n",
       "       [35, 26, 35],\n",
       "       [47, 38, 47]])"
      ]
     },
     "execution_count": 87,
     "metadata": {},
     "output_type": "execute_result"
    }
   ],
   "source": [
    "b[:, (-1, 2, -1)]  # all rows, columns -1 (last), 2 and -1 (again, and in this order)"
   ]
  },
  {
   "cell_type": "markdown",
   "metadata": {},
   "source": [
    "If you provide multiple index arrays, you get a 1D `ndarray` containing the values of the elements at the specified coordinates."
   ]
  },
  {
   "cell_type": "code",
   "execution_count": 88,
   "metadata": {},
   "outputs": [
    {
     "data": {
      "text/plain": [
       "array([41, 33, 37, 33])"
      ]
     },
     "execution_count": 88,
     "metadata": {},
     "output_type": "execute_result"
    }
   ],
   "source": [
    "b[(-1, 2, -1, 2), (5, 9, 1, 9)]  # returns a 1D array with b[-1, 5], b[2, 9], b[-1, 1] and b[2, 9] (again)"
   ]
  },
  {
   "cell_type": "markdown",
   "metadata": {},
   "source": [
    "## Higher dimensions\n",
    "Everything works just as well with higher dimensional arrays, but it's useful to look at a few examples:"
   ]
  },
  {
   "cell_type": "code",
   "execution_count": 89,
   "metadata": {},
   "outputs": [
    {
     "data": {
      "text/plain": [
       "array([[[ 0,  1,  2,  3,  4,  5],\n",
       "        [ 6,  7,  8,  9, 10, 11]],\n",
       "\n",
       "       [[12, 13, 14, 15, 16, 17],\n",
       "        [18, 19, 20, 21, 22, 23]],\n",
       "\n",
       "       [[24, 25, 26, 27, 28, 29],\n",
       "        [30, 31, 32, 33, 34, 35]],\n",
       "\n",
       "       [[36, 37, 38, 39, 40, 41],\n",
       "        [42, 43, 44, 45, 46, 47]]])"
      ]
     },
     "execution_count": 89,
     "metadata": {},
     "output_type": "execute_result"
    }
   ],
   "source": [
    "c = b.reshape(4,2,6)\n",
    "c"
   ]
  },
  {
   "cell_type": "code",
   "execution_count": 90,
   "metadata": {},
   "outputs": [
    {
     "data": {
      "text/plain": [
       "34"
      ]
     },
     "execution_count": 90,
     "metadata": {},
     "output_type": "execute_result"
    }
   ],
   "source": [
    "c[2, 1, 4]  # matrix 2, row 1, col 4"
   ]
  },
  {
   "cell_type": "code",
   "execution_count": 91,
   "metadata": {},
   "outputs": [
    {
     "data": {
      "text/plain": [
       "array([27, 33])"
      ]
     },
     "execution_count": 91,
     "metadata": {},
     "output_type": "execute_result"
    }
   ],
   "source": [
    "c[2, :, 3]  # matrix 2, all rows, col 3"
   ]
  },
  {
   "cell_type": "markdown",
   "metadata": {},
   "source": [
    "If you omit coordinates for some axes, then all elements in these axes are returned:"
   ]
  },
  {
   "cell_type": "code",
   "execution_count": 92,
   "metadata": {},
   "outputs": [
    {
     "data": {
      "text/plain": [
       "array([30, 31, 32, 33, 34, 35])"
      ]
     },
     "execution_count": 92,
     "metadata": {},
     "output_type": "execute_result"
    }
   ],
   "source": [
    "c[2, 1]  # Return matrix 2, row 1, all columns.  This is equivalent to c[2, 1, :]"
   ]
  },
  {
   "cell_type": "markdown",
   "metadata": {},
   "source": [
    "## Ellipsis (`...`)\n",
    "You may also write an ellipsis (`...`) to ask that all non-specified axes be entirely included."
   ]
  },
  {
   "cell_type": "code",
   "execution_count": 93,
   "metadata": {},
   "outputs": [
    {
     "data": {
      "text/plain": [
       "array([[24, 25, 26, 27, 28, 29],\n",
       "       [30, 31, 32, 33, 34, 35]])"
      ]
     },
     "execution_count": 93,
     "metadata": {},
     "output_type": "execute_result"
    }
   ],
   "source": [
    "c[2, ...]  #  matrix 2, all rows, all columns.  This is equivalent to c[2, :, :]"
   ]
  },
  {
   "cell_type": "code",
   "execution_count": 94,
   "metadata": {},
   "outputs": [
    {
     "data": {
      "text/plain": [
       "array([30, 31, 32, 33, 34, 35])"
      ]
     },
     "execution_count": 94,
     "metadata": {},
     "output_type": "execute_result"
    }
   ],
   "source": [
    "c[2, 1, ...]  # matrix 2, row 1, all columns.  This is equivalent to c[2, 1, :]"
   ]
  },
  {
   "cell_type": "code",
   "execution_count": 95,
   "metadata": {},
   "outputs": [
    {
     "data": {
      "text/plain": [
       "array([27, 33])"
      ]
     },
     "execution_count": 95,
     "metadata": {},
     "output_type": "execute_result"
    }
   ],
   "source": [
    "c[2, ..., 3]  # matrix 2, all rows, column 3.  This is equivalent to c[2, :, 3]"
   ]
  },
  {
   "cell_type": "code",
   "execution_count": 96,
   "metadata": {},
   "outputs": [
    {
     "data": {
      "text/plain": [
       "array([[ 3,  9],\n",
       "       [15, 21],\n",
       "       [27, 33],\n",
       "       [39, 45]])"
      ]
     },
     "execution_count": 96,
     "metadata": {},
     "output_type": "execute_result"
    }
   ],
   "source": [
    "c[..., 3]  # all matrices, all rows, column 3.  This is equivalent to c[:, :, 3]"
   ]
  },
  {
   "cell_type": "markdown",
   "metadata": {},
   "source": [
    "## Boolean indexing\n",
    "You can also provide an `ndarray` of boolean values on one axis to specify the indices that you want to access."
   ]
  },
  {
   "cell_type": "code",
   "execution_count": 97,
   "metadata": {},
   "outputs": [
    {
     "data": {
      "text/plain": [
       "array([[ 0,  1,  2,  3,  4,  5,  6,  7,  8,  9, 10, 11],\n",
       "       [12, 13, 14, 15, 16, 17, 18, 19, 20, 21, 22, 23],\n",
       "       [24, 25, 26, 27, 28, 29, 30, 31, 32, 33, 34, 35],\n",
       "       [36, 37, 38, 39, 40, 41, 42, 43, 44, 45, 46, 47]])"
      ]
     },
     "execution_count": 97,
     "metadata": {},
     "output_type": "execute_result"
    }
   ],
   "source": [
    "b = np.arange(48).reshape(4, 12)\n",
    "b"
   ]
  },
  {
   "cell_type": "code",
   "execution_count": 98,
   "metadata": {},
   "outputs": [
    {
     "data": {
      "text/plain": [
       "array([[ 0,  1,  2,  3,  4,  5,  6,  7,  8,  9, 10, 11],\n",
       "       [24, 25, 26, 27, 28, 29, 30, 31, 32, 33, 34, 35]])"
      ]
     },
     "execution_count": 98,
     "metadata": {},
     "output_type": "execute_result"
    }
   ],
   "source": [
    "rows_on = np.array([True, False, True, False])\n",
    "b[rows_on, :]  # Rows 0 and 2, all columns. Equivalent to b[(0, 2), :]"
   ]
  },
  {
   "cell_type": "code",
   "execution_count": 99,
   "metadata": {},
   "outputs": [
    {
     "data": {
      "text/plain": [
       "array([[ 1,  4,  7, 10],\n",
       "       [13, 16, 19, 22],\n",
       "       [25, 28, 31, 34],\n",
       "       [37, 40, 43, 46]])"
      ]
     },
     "execution_count": 99,
     "metadata": {},
     "output_type": "execute_result"
    }
   ],
   "source": [
    "cols_on = np.array([False, True, False] * 4)\n",
    "b[:, cols_on]  # All rows, columns 1, 4, 7 and 10"
   ]
  },
  {
   "cell_type": "markdown",
   "metadata": {},
   "source": [
    "## `np.ix_`\n",
    "You cannot use boolean indexing this way on multiple axes, but you can work around this by using the `ix_` function:"
   ]
  },
  {
   "cell_type": "code",
   "execution_count": 100,
   "metadata": {},
   "outputs": [
    {
     "data": {
      "text/plain": [
       "array([[ 1,  4,  7, 10],\n",
       "       [25, 28, 31, 34]])"
      ]
     },
     "execution_count": 100,
     "metadata": {},
     "output_type": "execute_result"
    }
   ],
   "source": [
    "b[np.ix_(rows_on, cols_on)]"
   ]
  },
  {
   "cell_type": "code",
   "execution_count": 101,
   "metadata": {},
   "outputs": [
    {
     "data": {
      "text/plain": [
       "(array([[0],\n",
       "        [2]]), array([[ 1,  4,  7, 10]]))"
      ]
     },
     "execution_count": 101,
     "metadata": {},
     "output_type": "execute_result"
    }
   ],
   "source": [
    "np.ix_(rows_on, cols_on)"
   ]
  },
  {
   "cell_type": "markdown",
   "metadata": {},
   "source": [
    "If you use a boolean array that has the same shape as the `ndarray`, then you get in return a 1D array containing all the values that have `True` at their coordinate. This is generally used along with conditional operators:"
   ]
  },
  {
   "cell_type": "code",
   "execution_count": 102,
   "metadata": {},
   "outputs": [
    {
     "data": {
      "text/plain": [
       "array([ 1,  4,  7, 10, 13, 16, 19, 22, 25, 28, 31, 34, 37, 40, 43, 46])"
      ]
     },
     "execution_count": 102,
     "metadata": {},
     "output_type": "execute_result"
    }
   ],
   "source": [
    "b[b % 3 == 1]"
   ]
  },
  {
   "cell_type": "markdown",
   "metadata": {},
   "source": [
    "# Iterating\n",
    "Iterating over `ndarray`s is very similar to iterating over regular python arrays. Note that iterating over multidimensional arrays is done with respect to the first axis."
   ]
  },
  {
   "cell_type": "code",
   "execution_count": 103,
   "metadata": {},
   "outputs": [
    {
     "data": {
      "text/plain": [
       "array([[[ 0,  1,  2,  3],\n",
       "        [ 4,  5,  6,  7],\n",
       "        [ 8,  9, 10, 11]],\n",
       "\n",
       "       [[12, 13, 14, 15],\n",
       "        [16, 17, 18, 19],\n",
       "        [20, 21, 22, 23]]])"
      ]
     },
     "execution_count": 103,
     "metadata": {},
     "output_type": "execute_result"
    }
   ],
   "source": [
    "c = np.arange(24).reshape(2, 3, 4)  # A 3D array (composed of two 3x4 matrices)\n",
    "c"
   ]
  },
  {
   "cell_type": "code",
   "execution_count": 104,
   "metadata": {},
   "outputs": [
    {
     "name": "stdout",
     "output_type": "stream",
     "text": [
      "Item:\n",
      "[[ 0  1  2  3]\n",
      " [ 4  5  6  7]\n",
      " [ 8  9 10 11]]\n",
      "Item:\n",
      "[[12 13 14 15]\n",
      " [16 17 18 19]\n",
      " [20 21 22 23]]\n"
     ]
    }
   ],
   "source": [
    "for m in c:\n",
    "    print(\"Item:\")\n",
    "    print(m)"
   ]
  },
  {
   "cell_type": "code",
   "execution_count": 105,
   "metadata": {},
   "outputs": [
    {
     "name": "stdout",
     "output_type": "stream",
     "text": [
      "Item:\n",
      "[[ 0  1  2  3]\n",
      " [ 4  5  6  7]\n",
      " [ 8  9 10 11]]\n",
      "Item:\n",
      "[[12 13 14 15]\n",
      " [16 17 18 19]\n",
      " [20 21 22 23]]\n"
     ]
    }
   ],
   "source": [
    "for i in range(len(c)):  # Note that len(c) == c.shape[0]\n",
    "    print(\"Item:\")\n",
    "    print(c[i])"
   ]
  },
  {
   "cell_type": "markdown",
   "metadata": {},
   "source": [
    "If you want to iterate on *all* elements in the `ndarray`, simply iterate over the `flat` attribute:"
   ]
  },
  {
   "cell_type": "code",
   "execution_count": 106,
   "metadata": {},
   "outputs": [
    {
     "name": "stdout",
     "output_type": "stream",
     "text": [
      "Item: 0\n",
      "Item: 1\n",
      "Item: 2\n",
      "Item: 3\n",
      "Item: 4\n",
      "Item: 5\n",
      "Item: 6\n",
      "Item: 7\n",
      "Item: 8\n",
      "Item: 9\n",
      "Item: 10\n",
      "Item: 11\n",
      "Item: 12\n",
      "Item: 13\n",
      "Item: 14\n",
      "Item: 15\n",
      "Item: 16\n",
      "Item: 17\n",
      "Item: 18\n",
      "Item: 19\n",
      "Item: 20\n",
      "Item: 21\n",
      "Item: 22\n",
      "Item: 23\n"
     ]
    }
   ],
   "source": [
    "for i in c.flat:\n",
    "    print(\"Item:\", i)"
   ]
  },
  {
   "cell_type": "markdown",
   "metadata": {},
   "source": [
    "# Stacking arrays\n",
    "It is often useful to stack together different arrays. NumPy offers several functions to do just that. Let's start by creating a few arrays."
   ]
  },
  {
   "cell_type": "code",
   "execution_count": 107,
   "metadata": {},
   "outputs": [
    {
     "data": {
      "text/plain": [
       "array([[ 1.,  1.,  1.,  1.],\n",
       "       [ 1.,  1.,  1.,  1.],\n",
       "       [ 1.,  1.,  1.,  1.]])"
      ]
     },
     "execution_count": 107,
     "metadata": {},
     "output_type": "execute_result"
    }
   ],
   "source": [
    "q1 = np.full((3,4), 1.0)\n",
    "q1"
   ]
  },
  {
   "cell_type": "code",
   "execution_count": 108,
   "metadata": {},
   "outputs": [
    {
     "data": {
      "text/plain": [
       "array([[ 2.,  2.,  2.,  2.],\n",
       "       [ 2.,  2.,  2.,  2.],\n",
       "       [ 2.,  2.,  2.,  2.],\n",
       "       [ 2.,  2.,  2.,  2.]])"
      ]
     },
     "execution_count": 108,
     "metadata": {},
     "output_type": "execute_result"
    }
   ],
   "source": [
    "q2 = np.full((4,4), 2.0)\n",
    "q2"
   ]
  },
  {
   "cell_type": "code",
   "execution_count": 109,
   "metadata": {},
   "outputs": [
    {
     "data": {
      "text/plain": [
       "array([[ 3.,  3.,  3.,  3.],\n",
       "       [ 3.,  3.,  3.,  3.],\n",
       "       [ 3.,  3.,  3.,  3.]])"
      ]
     },
     "execution_count": 109,
     "metadata": {},
     "output_type": "execute_result"
    }
   ],
   "source": [
    "q3 = np.full((3,4), 3.0)\n",
    "q3"
   ]
  },
  {
   "cell_type": "markdown",
   "metadata": {},
   "source": [
    "## `vstack`\n",
    "Now let's stack them vertically using `vstack`:"
   ]
  },
  {
   "cell_type": "code",
   "execution_count": 110,
   "metadata": {},
   "outputs": [
    {
     "data": {
      "text/plain": [
       "array([[ 1.,  1.,  1.,  1.],\n",
       "       [ 1.,  1.,  1.,  1.],\n",
       "       [ 1.,  1.,  1.,  1.],\n",
       "       [ 2.,  2.,  2.,  2.],\n",
       "       [ 2.,  2.,  2.,  2.],\n",
       "       [ 2.,  2.,  2.,  2.],\n",
       "       [ 2.,  2.,  2.,  2.],\n",
       "       [ 3.,  3.,  3.,  3.],\n",
       "       [ 3.,  3.,  3.,  3.],\n",
       "       [ 3.,  3.,  3.,  3.]])"
      ]
     },
     "execution_count": 110,
     "metadata": {},
     "output_type": "execute_result"
    }
   ],
   "source": [
    "q4 = np.vstack((q1, q2, q3))\n",
    "q4"
   ]
  },
  {
   "cell_type": "code",
   "execution_count": 111,
   "metadata": {},
   "outputs": [
    {
     "data": {
      "text/plain": [
       "(10, 4)"
      ]
     },
     "execution_count": 111,
     "metadata": {},
     "output_type": "execute_result"
    }
   ],
   "source": [
    "q4.shape"
   ]
  },
  {
   "cell_type": "markdown",
   "metadata": {},
   "source": [
    "This was possible because q1, q2 and q3 all have the same shape (except for the vertical axis, but that's ok since we are stacking on that axis).\n",
    "\n",
    "## `hstack`\n",
    "We can also stack arrays horizontally using `hstack`:"
   ]
  },
  {
   "cell_type": "code",
   "execution_count": 112,
   "metadata": {},
   "outputs": [
    {
     "data": {
      "text/plain": [
       "array([[ 1.,  1.,  1.,  1.,  3.,  3.,  3.,  3.],\n",
       "       [ 1.,  1.,  1.,  1.,  3.,  3.,  3.,  3.],\n",
       "       [ 1.,  1.,  1.,  1.,  3.,  3.,  3.,  3.]])"
      ]
     },
     "execution_count": 112,
     "metadata": {},
     "output_type": "execute_result"
    }
   ],
   "source": [
    "q5 = np.hstack((q1, q3))\n",
    "q5"
   ]
  },
  {
   "cell_type": "code",
   "execution_count": 113,
   "metadata": {},
   "outputs": [
    {
     "data": {
      "text/plain": [
       "(3, 8)"
      ]
     },
     "execution_count": 113,
     "metadata": {},
     "output_type": "execute_result"
    }
   ],
   "source": [
    "q5.shape"
   ]
  },
  {
   "cell_type": "markdown",
   "metadata": {},
   "source": [
    "This is possible because q1 and q3 both have 3 rows. But since q2 has 4 rows, it cannot be stacked horizontally with q1 and q3:"
   ]
  },
  {
   "cell_type": "code",
   "execution_count": 114,
   "metadata": {},
   "outputs": [
    {
     "name": "stdout",
     "output_type": "stream",
     "text": [
      "all the input array dimensions except for the concatenation axis must match exactly\n"
     ]
    }
   ],
   "source": [
    "try:\n",
    "    q5 = np.hstack((q1, q2, q3))\n",
    "except ValueError as e:\n",
    "    print(e)"
   ]
  },
  {
   "cell_type": "markdown",
   "metadata": {},
   "source": [
    "## `concatenate`\n",
    "The `concatenate` function stacks arrays along any given existing axis."
   ]
  },
  {
   "cell_type": "code",
   "execution_count": 115,
   "metadata": {},
   "outputs": [
    {
     "data": {
      "text/plain": [
       "array([[ 1.,  1.,  1.,  1.],\n",
       "       [ 1.,  1.,  1.,  1.],\n",
       "       [ 1.,  1.,  1.,  1.],\n",
       "       [ 2.,  2.,  2.,  2.],\n",
       "       [ 2.,  2.,  2.,  2.],\n",
       "       [ 2.,  2.,  2.,  2.],\n",
       "       [ 2.,  2.,  2.,  2.],\n",
       "       [ 3.,  3.,  3.,  3.],\n",
       "       [ 3.,  3.,  3.,  3.],\n",
       "       [ 3.,  3.,  3.,  3.]])"
      ]
     },
     "execution_count": 115,
     "metadata": {},
     "output_type": "execute_result"
    }
   ],
   "source": [
    "q7 = np.concatenate((q1, q2, q3), axis=0)  # Equivalent to vstack\n",
    "q7"
   ]
  },
  {
   "cell_type": "code",
   "execution_count": 116,
   "metadata": {},
   "outputs": [
    {
     "data": {
      "text/plain": [
       "(10, 4)"
      ]
     },
     "execution_count": 116,
     "metadata": {},
     "output_type": "execute_result"
    }
   ],
   "source": [
    "q7.shape"
   ]
  },
  {
   "cell_type": "markdown",
   "metadata": {},
   "source": [
    "As you might guess, `hstack` is equivalent to calling `concatenate` with `axis=1`."
   ]
  },
  {
   "cell_type": "markdown",
   "metadata": {},
   "source": [
    "## `stack`\n",
    "The `stack` function stacks arrays along a new axis. All arrays have to have the same shape."
   ]
  },
  {
   "cell_type": "code",
   "execution_count": 117,
   "metadata": {},
   "outputs": [
    {
     "data": {
      "text/plain": [
       "array([[[ 1.,  1.,  1.,  1.],\n",
       "        [ 1.,  1.,  1.,  1.],\n",
       "        [ 1.,  1.,  1.,  1.]],\n",
       "\n",
       "       [[ 3.,  3.,  3.,  3.],\n",
       "        [ 3.,  3.,  3.,  3.],\n",
       "        [ 3.,  3.,  3.,  3.]]])"
      ]
     },
     "execution_count": 117,
     "metadata": {},
     "output_type": "execute_result"
    }
   ],
   "source": [
    "q8 = np.stack((q1, q3))\n",
    "q8"
   ]
  },
  {
   "cell_type": "code",
   "execution_count": 118,
   "metadata": {},
   "outputs": [
    {
     "data": {
      "text/plain": [
       "(2, 3, 4)"
      ]
     },
     "execution_count": 118,
     "metadata": {},
     "output_type": "execute_result"
    }
   ],
   "source": [
    "q8.shape"
   ]
  },
  {
   "cell_type": "markdown",
   "metadata": {},
   "source": [
    "# Splitting arrays\n",
    "Splitting is the opposite of stacking. For example, let's use the `vsplit` function to split a matrix vertically.\n",
    "\n",
    "First let's create a 6x4 matrix:"
   ]
  },
  {
   "cell_type": "code",
   "execution_count": 119,
   "metadata": {},
   "outputs": [
    {
     "data": {
      "text/plain": [
       "array([[ 0,  1,  2,  3],\n",
       "       [ 4,  5,  6,  7],\n",
       "       [ 8,  9, 10, 11],\n",
       "       [12, 13, 14, 15],\n",
       "       [16, 17, 18, 19],\n",
       "       [20, 21, 22, 23]])"
      ]
     },
     "execution_count": 119,
     "metadata": {},
     "output_type": "execute_result"
    }
   ],
   "source": [
    "r = np.arange(24).reshape(6,4)\n",
    "r"
   ]
  },
  {
   "cell_type": "markdown",
   "metadata": {},
   "source": [
    "Now let's split it in three equal parts, vertically:"
   ]
  },
  {
   "cell_type": "code",
   "execution_count": 120,
   "metadata": {},
   "outputs": [
    {
     "data": {
      "text/plain": [
       "array([[0, 1, 2, 3],\n",
       "       [4, 5, 6, 7]])"
      ]
     },
     "execution_count": 120,
     "metadata": {},
     "output_type": "execute_result"
    }
   ],
   "source": [
    "r1, r2, r3 = np.vsplit(r, 3)\n",
    "r1"
   ]
  },
  {
   "cell_type": "code",
   "execution_count": 121,
   "metadata": {},
   "outputs": [
    {
     "data": {
      "text/plain": [
       "array([[ 8,  9, 10, 11],\n",
       "       [12, 13, 14, 15]])"
      ]
     },
     "execution_count": 121,
     "metadata": {},
     "output_type": "execute_result"
    }
   ],
   "source": [
    "r2"
   ]
  },
  {
   "cell_type": "code",
   "execution_count": 122,
   "metadata": {},
   "outputs": [
    {
     "data": {
      "text/plain": [
       "array([[16, 17, 18, 19],\n",
       "       [20, 21, 22, 23]])"
      ]
     },
     "execution_count": 122,
     "metadata": {},
     "output_type": "execute_result"
    }
   ],
   "source": [
    "r3"
   ]
  },
  {
   "cell_type": "markdown",
   "metadata": {},
   "source": [
    "There is also a `split` function which splits an array along any given axis. Calling `vsplit` is equivalent to calling `split` with `axis=0`. There is also an `hsplit` function, equivalent to calling `split` with `axis=1`:"
   ]
  },
  {
   "cell_type": "code",
   "execution_count": 123,
   "metadata": {},
   "outputs": [
    {
     "data": {
      "text/plain": [
       "array([[ 0,  1],\n",
       "       [ 4,  5],\n",
       "       [ 8,  9],\n",
       "       [12, 13],\n",
       "       [16, 17],\n",
       "       [20, 21]])"
      ]
     },
     "execution_count": 123,
     "metadata": {},
     "output_type": "execute_result"
    }
   ],
   "source": [
    "r4, r5 = np.hsplit(r, 2)\n",
    "r4"
   ]
  },
  {
   "cell_type": "code",
   "execution_count": 124,
   "metadata": {},
   "outputs": [
    {
     "data": {
      "text/plain": [
       "array([[ 2,  3],\n",
       "       [ 6,  7],\n",
       "       [10, 11],\n",
       "       [14, 15],\n",
       "       [18, 19],\n",
       "       [22, 23]])"
      ]
     },
     "execution_count": 124,
     "metadata": {},
     "output_type": "execute_result"
    }
   ],
   "source": [
    "r5"
   ]
  },
  {
   "cell_type": "markdown",
   "metadata": {},
   "source": [
    "# Transposing arrays\n",
    "The `transpose` method creates a new view on an `ndarray`'s data, with axes permuted in the given order.\n",
    "\n",
    "For example, let's create a 3D array:"
   ]
  },
  {
   "cell_type": "code",
   "execution_count": 125,
   "metadata": {},
   "outputs": [
    {
     "data": {
      "text/plain": [
       "array([[[ 0,  1,  2],\n",
       "        [ 3,  4,  5]],\n",
       "\n",
       "       [[ 6,  7,  8],\n",
       "        [ 9, 10, 11]],\n",
       "\n",
       "       [[12, 13, 14],\n",
       "        [15, 16, 17]],\n",
       "\n",
       "       [[18, 19, 20],\n",
       "        [21, 22, 23]]])"
      ]
     },
     "execution_count": 125,
     "metadata": {},
     "output_type": "execute_result"
    }
   ],
   "source": [
    "t = np.arange(24).reshape(4,2,3)\n",
    "t"
   ]
  },
  {
   "cell_type": "markdown",
   "metadata": {},
   "source": [
    "Now let's create an `ndarray` such that the axes `0, 1, 2` (depth, height, width) are re-ordered to `1, 2, 0` (depth→width, height→depth, width→height):"
   ]
  },
  {
   "cell_type": "code",
   "execution_count": 126,
   "metadata": {},
   "outputs": [
    {
     "data": {
      "text/plain": [
       "array([[[ 0,  6, 12, 18],\n",
       "        [ 1,  7, 13, 19],\n",
       "        [ 2,  8, 14, 20]],\n",
       "\n",
       "       [[ 3,  9, 15, 21],\n",
       "        [ 4, 10, 16, 22],\n",
       "        [ 5, 11, 17, 23]]])"
      ]
     },
     "execution_count": 126,
     "metadata": {},
     "output_type": "execute_result"
    }
   ],
   "source": [
    "t1 = t.transpose((1,2,0))\n",
    "t1"
   ]
  },
  {
   "cell_type": "code",
   "execution_count": 127,
   "metadata": {},
   "outputs": [
    {
     "data": {
      "text/plain": [
       "(2, 3, 4)"
      ]
     },
     "execution_count": 127,
     "metadata": {},
     "output_type": "execute_result"
    }
   ],
   "source": [
    "t1.shape"
   ]
  },
  {
   "cell_type": "markdown",
   "metadata": {},
   "source": [
    "By default, `transpose` reverses the order of the dimensions:"
   ]
  },
  {
   "cell_type": "code",
   "execution_count": 128,
   "metadata": {},
   "outputs": [
    {
     "data": {
      "text/plain": [
       "array([[[ 0,  6, 12, 18],\n",
       "        [ 3,  9, 15, 21]],\n",
       "\n",
       "       [[ 1,  7, 13, 19],\n",
       "        [ 4, 10, 16, 22]],\n",
       "\n",
       "       [[ 2,  8, 14, 20],\n",
       "        [ 5, 11, 17, 23]]])"
      ]
     },
     "execution_count": 128,
     "metadata": {},
     "output_type": "execute_result"
    }
   ],
   "source": [
    "t2 = t.transpose()  # equivalent to t.transpose((2, 1, 0))\n",
    "t2"
   ]
  },
  {
   "cell_type": "code",
   "execution_count": 129,
   "metadata": {},
   "outputs": [
    {
     "data": {
      "text/plain": [
       "(3, 2, 4)"
      ]
     },
     "execution_count": 129,
     "metadata": {},
     "output_type": "execute_result"
    }
   ],
   "source": [
    "t2.shape"
   ]
  },
  {
   "cell_type": "markdown",
   "metadata": {},
   "source": [
    "NumPy provides a convenience function `swapaxes` to swap two axes. For example, let's create a new view of `t` with depth and height swapped:"
   ]
  },
  {
   "cell_type": "code",
   "execution_count": 130,
   "metadata": {},
   "outputs": [
    {
     "data": {
      "text/plain": [
       "array([[[ 0,  1,  2],\n",
       "        [ 6,  7,  8],\n",
       "        [12, 13, 14],\n",
       "        [18, 19, 20]],\n",
       "\n",
       "       [[ 3,  4,  5],\n",
       "        [ 9, 10, 11],\n",
       "        [15, 16, 17],\n",
       "        [21, 22, 23]]])"
      ]
     },
     "execution_count": 130,
     "metadata": {},
     "output_type": "execute_result"
    }
   ],
   "source": [
    "t3 = t.swapaxes(0,1)  # equivalent to t.transpose((1, 0, 2))\n",
    "t3"
   ]
  },
  {
   "cell_type": "code",
   "execution_count": 131,
   "metadata": {},
   "outputs": [
    {
     "data": {
      "text/plain": [
       "(2, 4, 3)"
      ]
     },
     "execution_count": 131,
     "metadata": {},
     "output_type": "execute_result"
    }
   ],
   "source": [
    "t3.shape"
   ]
  },
  {
   "cell_type": "markdown",
   "metadata": {},
   "source": [
    "# Linear algebra\n",
    "NumPy 2D arrays can be used to represent matrices efficiently in python. We will just quickly go through some of the main matrix operations available. For more details about Linear Algebra, vectors and matrics, go through the [Linear Algebra tutorial](math_linear_algebra.ipynb).\n",
    "\n",
    "## Matrix transpose\n",
    "The `T` attribute is equivalent to calling `transpose()` when the rank is ≥2:"
   ]
  },
  {
   "cell_type": "code",
   "execution_count": 132,
   "metadata": {},
   "outputs": [
    {
     "data": {
      "text/plain": [
       "array([[0, 1, 2, 3, 4],\n",
       "       [5, 6, 7, 8, 9]])"
      ]
     },
     "execution_count": 132,
     "metadata": {},
     "output_type": "execute_result"
    }
   ],
   "source": [
    "m1 = np.arange(10).reshape(2,5)\n",
    "m1"
   ]
  },
  {
   "cell_type": "code",
   "execution_count": 133,
   "metadata": {},
   "outputs": [
    {
     "data": {
      "text/plain": [
       "array([[0, 5],\n",
       "       [1, 6],\n",
       "       [2, 7],\n",
       "       [3, 8],\n",
       "       [4, 9]])"
      ]
     },
     "execution_count": 133,
     "metadata": {},
     "output_type": "execute_result"
    }
   ],
   "source": [
    "m1.T"
   ]
  },
  {
   "cell_type": "markdown",
   "metadata": {},
   "source": [
    "The `T` attribute has no effect on rank 0 (empty) or rank 1 arrays:"
   ]
  },
  {
   "cell_type": "code",
   "execution_count": 134,
   "metadata": {
    "scrolled": true
   },
   "outputs": [
    {
     "data": {
      "text/plain": [
       "array([0, 1, 2, 3, 4])"
      ]
     },
     "execution_count": 134,
     "metadata": {},
     "output_type": "execute_result"
    }
   ],
   "source": [
    "m2 = np.arange(5)\n",
    "m2"
   ]
  },
  {
   "cell_type": "code",
   "execution_count": 135,
   "metadata": {
    "scrolled": true
   },
   "outputs": [
    {
     "data": {
      "text/plain": [
       "array([0, 1, 2, 3, 4])"
      ]
     },
     "execution_count": 135,
     "metadata": {},
     "output_type": "execute_result"
    }
   ],
   "source": [
    "m2.T"
   ]
  },
  {
   "cell_type": "markdown",
   "metadata": {},
   "source": [
    "We can get the desired transposition by first reshaping the 1D array to a single-row matrix (2D):"
   ]
  },
  {
   "cell_type": "code",
   "execution_count": 136,
   "metadata": {},
   "outputs": [
    {
     "data": {
      "text/plain": [
       "array([[0, 1, 2, 3, 4]])"
      ]
     },
     "execution_count": 136,
     "metadata": {},
     "output_type": "execute_result"
    }
   ],
   "source": [
    "m2r = m2.reshape(1,5)\n",
    "m2r"
   ]
  },
  {
   "cell_type": "code",
   "execution_count": 137,
   "metadata": {},
   "outputs": [
    {
     "data": {
      "text/plain": [
       "array([[0],\n",
       "       [1],\n",
       "       [2],\n",
       "       [3],\n",
       "       [4]])"
      ]
     },
     "execution_count": 137,
     "metadata": {},
     "output_type": "execute_result"
    }
   ],
   "source": [
    "m2r.T"
   ]
  },
  {
   "cell_type": "markdown",
   "metadata": {},
   "source": [
    "## Matrix multiplication\n",
    "Let's create two matrices and execute a [matrix multiplication](https://en.wikipedia.org/wiki/Matrix_multiplication) using the `dot()` method."
   ]
  },
  {
   "cell_type": "code",
   "execution_count": 138,
   "metadata": {},
   "outputs": [
    {
     "data": {
      "text/plain": [
       "array([[0, 1, 2, 3, 4],\n",
       "       [5, 6, 7, 8, 9]])"
      ]
     },
     "execution_count": 138,
     "metadata": {},
     "output_type": "execute_result"
    }
   ],
   "source": [
    "n1 = np.arange(10).reshape(2, 5)\n",
    "n1"
   ]
  },
  {
   "cell_type": "code",
   "execution_count": 139,
   "metadata": {},
   "outputs": [
    {
     "data": {
      "text/plain": [
       "array([[ 0,  1,  2],\n",
       "       [ 3,  4,  5],\n",
       "       [ 6,  7,  8],\n",
       "       [ 9, 10, 11],\n",
       "       [12, 13, 14]])"
      ]
     },
     "execution_count": 139,
     "metadata": {},
     "output_type": "execute_result"
    }
   ],
   "source": [
    "n2 = np.arange(15).reshape(5,3)\n",
    "n2"
   ]
  },
  {
   "cell_type": "code",
   "execution_count": 140,
   "metadata": {},
   "outputs": [
    {
     "data": {
      "text/plain": [
       "array([[ 90, 100, 110],\n",
       "       [240, 275, 310]])"
      ]
     },
     "execution_count": 140,
     "metadata": {},
     "output_type": "execute_result"
    }
   ],
   "source": [
    "n1.dot(n2)"
   ]
  },
  {
   "cell_type": "markdown",
   "metadata": {},
   "source": [
    "**Caution**: as mentionned previously, `n1*n2` is *not* a matric multiplication, it is an elementwise product (also called a [Hadamard product](https://en.wikipedia.org/wiki/Hadamard_product_(matrices)))."
   ]
  },
  {
   "cell_type": "markdown",
   "metadata": {},
   "source": [
    "## Matrix inverse and pseudo-inverse\n",
    "Many of the linear algebra functions are available in the `numpy.linalg` module, in particular the `inv` function to compute a square matrix's inverse:"
   ]
  },
  {
   "cell_type": "code",
   "execution_count": 141,
   "metadata": {},
   "outputs": [
    {
     "data": {
      "text/plain": [
       "array([[ 1,  2,  3],\n",
       "       [ 5,  7, 11],\n",
       "       [21, 29, 31]])"
      ]
     },
     "execution_count": 141,
     "metadata": {},
     "output_type": "execute_result"
    }
   ],
   "source": [
    "import numpy.linalg as linalg\n",
    "\n",
    "m3 = np.array([[1,2,3],[5,7,11],[21,29,31]])\n",
    "m3"
   ]
  },
  {
   "cell_type": "code",
   "execution_count": 142,
   "metadata": {},
   "outputs": [
    {
     "data": {
      "text/plain": [
       "array([[-2.31818182,  0.56818182,  0.02272727],\n",
       "       [ 1.72727273, -0.72727273,  0.09090909],\n",
       "       [-0.04545455,  0.29545455, -0.06818182]])"
      ]
     },
     "execution_count": 142,
     "metadata": {},
     "output_type": "execute_result"
    }
   ],
   "source": [
    "linalg.inv(m3)"
   ]
  },
  {
   "cell_type": "markdown",
   "metadata": {},
   "source": [
    "You can also compute the [pseudoinverse](https://en.wikipedia.org/wiki/Moore%E2%80%93Penrose_pseudoinverse) using `pinv`:"
   ]
  },
  {
   "cell_type": "code",
   "execution_count": 143,
   "metadata": {},
   "outputs": [
    {
     "data": {
      "text/plain": [
       "array([[-2.31818182,  0.56818182,  0.02272727],\n",
       "       [ 1.72727273, -0.72727273,  0.09090909],\n",
       "       [-0.04545455,  0.29545455, -0.06818182]])"
      ]
     },
     "execution_count": 143,
     "metadata": {},
     "output_type": "execute_result"
    }
   ],
   "source": [
    "linalg.pinv(m3)"
   ]
  },
  {
   "cell_type": "markdown",
   "metadata": {},
   "source": [
    "## Identity matrix\n",
    "The product of a matrix by its inverse returns the identiy matrix (with small floating point errors):"
   ]
  },
  {
   "cell_type": "code",
   "execution_count": 144,
   "metadata": {},
   "outputs": [
    {
     "data": {
      "text/plain": [
       "array([[  1.00000000e+00,  -1.11022302e-16,  -6.93889390e-18],\n",
       "       [ -1.33226763e-15,   1.00000000e+00,  -5.55111512e-17],\n",
       "       [  2.88657986e-15,   0.00000000e+00,   1.00000000e+00]])"
      ]
     },
     "execution_count": 144,
     "metadata": {},
     "output_type": "execute_result"
    }
   ],
   "source": [
    "m3.dot(linalg.inv(m3))"
   ]
  },
  {
   "cell_type": "markdown",
   "metadata": {},
   "source": [
    "You can create an identity matrix of size NxN by calling `eye`:"
   ]
  },
  {
   "cell_type": "code",
   "execution_count": 145,
   "metadata": {},
   "outputs": [
    {
     "data": {
      "text/plain": [
       "array([[ 1.,  0.,  0.],\n",
       "       [ 0.,  1.,  0.],\n",
       "       [ 0.,  0.,  1.]])"
      ]
     },
     "execution_count": 145,
     "metadata": {},
     "output_type": "execute_result"
    }
   ],
   "source": [
    "np.eye(3)"
   ]
  },
  {
   "cell_type": "markdown",
   "metadata": {},
   "source": [
    "## QR decomposition\n",
    "The `qr` function computes the [QR decomposition](https://en.wikipedia.org/wiki/QR_decomposition) of a matrix:"
   ]
  },
  {
   "cell_type": "code",
   "execution_count": 146,
   "metadata": {},
   "outputs": [
    {
     "data": {
      "text/plain": [
       "array([[-0.04627448,  0.98786672,  0.14824986],\n",
       "       [-0.23137241,  0.13377362, -0.96362411],\n",
       "       [-0.97176411, -0.07889213,  0.22237479]])"
      ]
     },
     "execution_count": 146,
     "metadata": {},
     "output_type": "execute_result"
    }
   ],
   "source": [
    "q, r = linalg.qr(m3)\n",
    "q"
   ]
  },
  {
   "cell_type": "code",
   "execution_count": 147,
   "metadata": {},
   "outputs": [
    {
     "data": {
      "text/plain": [
       "array([[-21.61018278, -29.89331494, -32.80860727],\n",
       "       [  0.        ,   0.62427688,   1.9894538 ],\n",
       "       [  0.        ,   0.        ,  -3.26149699]])"
      ]
     },
     "execution_count": 147,
     "metadata": {},
     "output_type": "execute_result"
    }
   ],
   "source": [
    "r"
   ]
  },
  {
   "cell_type": "code",
   "execution_count": 148,
   "metadata": {},
   "outputs": [
    {
     "data": {
      "text/plain": [
       "array([[  1.,   2.,   3.],\n",
       "       [  5.,   7.,  11.],\n",
       "       [ 21.,  29.,  31.]])"
      ]
     },
     "execution_count": 148,
     "metadata": {},
     "output_type": "execute_result"
    }
   ],
   "source": [
    "q.dot(r)  # q.r equals m3"
   ]
  },
  {
   "cell_type": "markdown",
   "metadata": {},
   "source": [
    "## Determinant\n",
    "The `det` function computes the [matrix determinant](https://en.wikipedia.org/wiki/Determinant):"
   ]
  },
  {
   "cell_type": "code",
   "execution_count": 149,
   "metadata": {},
   "outputs": [
    {
     "data": {
      "text/plain": [
       "43.999999999999972"
      ]
     },
     "execution_count": 149,
     "metadata": {},
     "output_type": "execute_result"
    }
   ],
   "source": [
    "linalg.det(m3)  # Computes the matrix determinant"
   ]
  },
  {
   "cell_type": "markdown",
   "metadata": {},
   "source": [
    "## Eigenvalues and eigenvectors\n",
    "The `eig` function computes the [eigenvalues and eigenvectors](https://en.wikipedia.org/wiki/Eigenvalues_and_eigenvectors) of a square matrix:"
   ]
  },
  {
   "cell_type": "code",
   "execution_count": 150,
   "metadata": {},
   "outputs": [
    {
     "data": {
      "text/plain": [
       "array([ 42.26600592,  -0.35798416,  -2.90802176])"
      ]
     },
     "execution_count": 150,
     "metadata": {},
     "output_type": "execute_result"
    }
   ],
   "source": [
    "eigenvalues, eigenvectors = linalg.eig(m3)\n",
    "eigenvalues # λ"
   ]
  },
  {
   "cell_type": "code",
   "execution_count": 151,
   "metadata": {},
   "outputs": [
    {
     "data": {
      "text/plain": [
       "array([[-0.08381182, -0.76283526, -0.18913107],\n",
       "       [-0.3075286 ,  0.64133975, -0.6853186 ],\n",
       "       [-0.94784057, -0.08225377,  0.70325518]])"
      ]
     },
     "execution_count": 151,
     "metadata": {},
     "output_type": "execute_result"
    }
   ],
   "source": [
    "eigenvectors # v"
   ]
  },
  {
   "cell_type": "code",
   "execution_count": 152,
   "metadata": {},
   "outputs": [
    {
     "data": {
      "text/plain": [
       "array([[  8.88178420e-15,   2.49800181e-15,  -3.33066907e-16],\n",
       "       [  1.77635684e-14,  -1.66533454e-16,  -3.55271368e-15],\n",
       "       [  3.55271368e-14,   3.61516372e-15,  -4.44089210e-16]])"
      ]
     },
     "execution_count": 152,
     "metadata": {},
     "output_type": "execute_result"
    }
   ],
   "source": [
    "m3.dot(eigenvectors) - eigenvalues * eigenvectors  # m3.v - λ*v = 0"
   ]
  },
  {
   "cell_type": "markdown",
   "metadata": {},
   "source": [
    "## Singular Value Decomposition\n",
    "The `svd` function takes a matrix and returns its [singular value decomposition](https://en.wikipedia.org/wiki/Singular_value_decomposition):"
   ]
  },
  {
   "cell_type": "code",
   "execution_count": 153,
   "metadata": {},
   "outputs": [
    {
     "data": {
      "text/plain": [
       "array([[1, 0, 0, 0, 2],\n",
       "       [0, 0, 3, 0, 0],\n",
       "       [0, 0, 0, 0, 0],\n",
       "       [0, 2, 0, 0, 0]])"
      ]
     },
     "execution_count": 153,
     "metadata": {},
     "output_type": "execute_result"
    }
   ],
   "source": [
    "m4 = np.array([[1,0,0,0,2], [0,0,3,0,0], [0,0,0,0,0], [0,2,0,0,0]])\n",
    "m4"
   ]
  },
  {
   "cell_type": "code",
   "execution_count": 154,
   "metadata": {},
   "outputs": [
    {
     "data": {
      "text/plain": [
       "array([[ 0.,  1.,  0.,  0.],\n",
       "       [ 1.,  0.,  0.,  0.],\n",
       "       [ 0.,  0.,  0., -1.],\n",
       "       [ 0.,  0.,  1.,  0.]])"
      ]
     },
     "execution_count": 154,
     "metadata": {},
     "output_type": "execute_result"
    }
   ],
   "source": [
    "U, S_diag, V = linalg.svd(m4)\n",
    "U"
   ]
  },
  {
   "cell_type": "code",
   "execution_count": 155,
   "metadata": {},
   "outputs": [
    {
     "data": {
      "text/plain": [
       "array([ 3.        ,  2.23606798,  2.        ,  0.        ])"
      ]
     },
     "execution_count": 155,
     "metadata": {},
     "output_type": "execute_result"
    }
   ],
   "source": [
    "S_diag"
   ]
  },
  {
   "cell_type": "markdown",
   "metadata": {},
   "source": [
    "The `svd` function just returns the values in the diagonal of Σ, but we want the full Σ matrix, so let's create it:"
   ]
  },
  {
   "cell_type": "code",
   "execution_count": 156,
   "metadata": {},
   "outputs": [
    {
     "data": {
      "text/plain": [
       "array([[ 3.        ,  0.        ,  0.        ,  0.        ,  0.        ],\n",
       "       [ 0.        ,  2.23606798,  0.        ,  0.        ,  0.        ],\n",
       "       [ 0.        ,  0.        ,  2.        ,  0.        ,  0.        ],\n",
       "       [ 0.        ,  0.        ,  0.        ,  0.        ,  0.        ]])"
      ]
     },
     "execution_count": 156,
     "metadata": {},
     "output_type": "execute_result"
    }
   ],
   "source": [
    "S = np.zeros((4, 5))\n",
    "S[np.diag_indices(4)] = S_diag\n",
    "S  # Σ"
   ]
  },
  {
   "cell_type": "code",
   "execution_count": 157,
   "metadata": {},
   "outputs": [
    {
     "data": {
      "text/plain": [
       "array([[-0.        ,  0.        ,  1.        , -0.        ,  0.        ],\n",
       "       [ 0.4472136 ,  0.        ,  0.        ,  0.        ,  0.89442719],\n",
       "       [-0.        ,  1.        ,  0.        , -0.        ,  0.        ],\n",
       "       [ 0.        ,  0.        ,  0.        ,  1.        ,  0.        ],\n",
       "       [-0.89442719,  0.        ,  0.        ,  0.        ,  0.4472136 ]])"
      ]
     },
     "execution_count": 157,
     "metadata": {},
     "output_type": "execute_result"
    }
   ],
   "source": [
    "V"
   ]
  },
  {
   "cell_type": "code",
   "execution_count": 158,
   "metadata": {},
   "outputs": [
    {
     "data": {
      "text/plain": [
       "array([[ 1.,  0.,  0.,  0.,  2.],\n",
       "       [ 0.,  0.,  3.,  0.,  0.],\n",
       "       [ 0.,  0.,  0.,  0.,  0.],\n",
       "       [ 0.,  2.,  0.,  0.,  0.]])"
      ]
     },
     "execution_count": 158,
     "metadata": {},
     "output_type": "execute_result"
    }
   ],
   "source": [
    "U.dot(S).dot(V) # U.Σ.V == m4"
   ]
  },
  {
   "cell_type": "markdown",
   "metadata": {},
   "source": [
    "## Diagonal and trace"
   ]
  },
  {
   "cell_type": "code",
   "execution_count": 159,
   "metadata": {},
   "outputs": [
    {
     "data": {
      "text/plain": [
       "array([ 1,  7, 31])"
      ]
     },
     "execution_count": 159,
     "metadata": {},
     "output_type": "execute_result"
    }
   ],
   "source": [
    "np.diag(m3)  # the values in the diagonal of m3 (top left to bottom right)"
   ]
  },
  {
   "cell_type": "code",
   "execution_count": 160,
   "metadata": {},
   "outputs": [
    {
     "data": {
      "text/plain": [
       "39"
      ]
     },
     "execution_count": 160,
     "metadata": {},
     "output_type": "execute_result"
    }
   ],
   "source": [
    "np.trace(m3)  # equivalent to np.diag(m3).sum()"
   ]
  },
  {
   "cell_type": "markdown",
   "metadata": {},
   "source": [
    "## Solving a system of linear scalar equations"
   ]
  },
  {
   "cell_type": "markdown",
   "metadata": {},
   "source": [
    "The `solve` function solves a system of linear scalar equations, such as:\n",
    "\n",
    "* $2x + 6y = 6$\n",
    "* $5x + 3y = -9$"
   ]
  },
  {
   "cell_type": "code",
   "execution_count": 161,
   "metadata": {},
   "outputs": [
    {
     "data": {
      "text/plain": [
       "array([-3.,  2.])"
      ]
     },
     "execution_count": 161,
     "metadata": {},
     "output_type": "execute_result"
    }
   ],
   "source": [
    "coeffs  = np.array([[2, 6], [5, 3]])\n",
    "depvars = np.array([6, -9])\n",
    "solution = linalg.solve(coeffs, depvars)\n",
    "solution"
   ]
  },
  {
   "cell_type": "markdown",
   "metadata": {},
   "source": [
    "Let's check the solution:"
   ]
  },
  {
   "cell_type": "code",
   "execution_count": 162,
   "metadata": {},
   "outputs": [
    {
     "data": {
      "text/plain": [
       "(array([ 6., -9.]), array([ 6, -9]))"
      ]
     },
     "execution_count": 162,
     "metadata": {},
     "output_type": "execute_result"
    }
   ],
   "source": [
    "coeffs.dot(solution), depvars  # yep, it's the same"
   ]
  },
  {
   "cell_type": "markdown",
   "metadata": {},
   "source": [
    "Looks good! Another way to check the solution:"
   ]
  },
  {
   "cell_type": "code",
   "execution_count": 163,
   "metadata": {
    "scrolled": true
   },
   "outputs": [
    {
     "data": {
      "text/plain": [
       "True"
      ]
     },
     "execution_count": 163,
     "metadata": {},
     "output_type": "execute_result"
    }
   ],
   "source": [
    "np.allclose(coeffs.dot(solution), depvars)"
   ]
  },
  {
   "cell_type": "markdown",
   "metadata": {},
   "source": [
    "# Vectorization\n",
    "Instead of executing operations on individual array items, one at a time, your code is much more efficient if you try to stick to array operations. This is called *vectorization*. This way, you can benefit from NumPy's many optimizations.\n",
    "\n",
    "For example, let's say we want to generate a 768x1024 array based on the formula $sin(xy/40.5)$. A **bad** option would be to do the math in python using nested loops:"
   ]
  },
  {
   "cell_type": "code",
   "execution_count": 164,
   "metadata": {},
   "outputs": [],
   "source": [
    "import math\n",
    "data = np.empty((768, 1024))\n",
    "for y in range(768):\n",
    "    for x in range(1024):\n",
    "        data[y, x] = math.sin(x*y/40.5)  # BAD! Very inefficient."
   ]
  },
  {
   "cell_type": "markdown",
   "metadata": {},
   "source": [
    "Sure, this works, but it's terribly inefficient since the loops are taking place in pure python. Let's vectorize this algorithm. First, we will use NumPy's `meshgrid` function which generates coordinate matrices from coordinate vectors."
   ]
  },
  {
   "cell_type": "code",
   "execution_count": 165,
   "metadata": {},
   "outputs": [
    {
     "data": {
      "text/plain": [
       "array([[   0,    1,    2, ..., 1021, 1022, 1023],\n",
       "       [   0,    1,    2, ..., 1021, 1022, 1023],\n",
       "       [   0,    1,    2, ..., 1021, 1022, 1023],\n",
       "       ..., \n",
       "       [   0,    1,    2, ..., 1021, 1022, 1023],\n",
       "       [   0,    1,    2, ..., 1021, 1022, 1023],\n",
       "       [   0,    1,    2, ..., 1021, 1022, 1023]])"
      ]
     },
     "execution_count": 165,
     "metadata": {},
     "output_type": "execute_result"
    }
   ],
   "source": [
    "x_coords = np.arange(0, 1024)  # [0, 1, 2, ..., 1023]\n",
    "y_coords = np.arange(0, 768)   # [0, 1, 2, ..., 767]\n",
    "X, Y = np.meshgrid(x_coords, y_coords)\n",
    "X"
   ]
  },
  {
   "cell_type": "code",
   "execution_count": 166,
   "metadata": {},
   "outputs": [
    {
     "data": {
      "text/plain": [
       "array([[  0,   0,   0, ...,   0,   0,   0],\n",
       "       [  1,   1,   1, ...,   1,   1,   1],\n",
       "       [  2,   2,   2, ...,   2,   2,   2],\n",
       "       ..., \n",
       "       [765, 765, 765, ..., 765, 765, 765],\n",
       "       [766, 766, 766, ..., 766, 766, 766],\n",
       "       [767, 767, 767, ..., 767, 767, 767]])"
      ]
     },
     "execution_count": 166,
     "metadata": {},
     "output_type": "execute_result"
    }
   ],
   "source": [
    "Y"
   ]
  },
  {
   "cell_type": "markdown",
   "metadata": {},
   "source": [
    "As you can see, both `X` and `Y` are 768x1024 arrays, and all values in `X` correspond to the horizontal coordinate, while all values in `Y` correspond to the the vertical coordinate.\n",
    "\n",
    "Now we can simply compute the result using array operations:"
   ]
  },
  {
   "cell_type": "code",
   "execution_count": 167,
   "metadata": {},
   "outputs": [],
   "source": [
    "data = np.sin(X*Y/40.5)"
   ]
  },
  {
   "cell_type": "markdown",
   "metadata": {},
   "source": [
    "Now we can plot this data using matplotlib's `imshow` function (see the [matplotlib tutorial](tools_matplotlib.ipynb))."
   ]
  },
  {
   "cell_type": "code",
   "execution_count": 168,
   "metadata": {},
   "outputs": [
    {
     "data": {
      "image/png": "iVBORw0KGgoAAAANSUhEUgAAAa8AAAFGCAYAAADdIBBLAAAABHNCSVQICAgIfAhkiAAAAAlwSFlz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\nE3LZ0d/5CQ9lnIQMSuYOPseNaSNro
